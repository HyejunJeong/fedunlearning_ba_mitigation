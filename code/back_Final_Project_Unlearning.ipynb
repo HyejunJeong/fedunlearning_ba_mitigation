{
 "cells": [
  {
   "cell_type": "markdown",
   "metadata": {
    "id": "9msOIi9xBd56"
   },
   "source": [
    "# Importing Libraries"
   ]
  },
  {
   "cell_type": "code",
   "execution_count": 1,
   "metadata": {
    "colab": {
     "base_uri": "https://localhost:8080/"
    },
    "id": "gyiJRNmmixBF",
    "outputId": "82409cac-3352-4409-ba3f-b7b83bbb9a28"
   },
   "outputs": [
    {
     "name": "stdout",
     "output_type": "stream",
     "text": [
      "Requirement already satisfied: adversarial-robustness-toolbox in /Applications/anaconda3/envs/compsci682/lib/python3.10/site-packages (1.16.0)\n",
      "Requirement already satisfied: numpy>=1.18.0 in /Applications/anaconda3/envs/compsci682/lib/python3.10/site-packages (from adversarial-robustness-toolbox) (1.22.4)\n",
      "Requirement already satisfied: scipy>=1.4.1 in /Applications/anaconda3/envs/compsci682/lib/python3.10/site-packages (from adversarial-robustness-toolbox) (1.7.3)\n",
      "Requirement already satisfied: scikit-learn<1.2.0,>=0.22.2 in /Applications/anaconda3/envs/compsci682/lib/python3.10/site-packages (from adversarial-robustness-toolbox) (1.1.3)\n",
      "Requirement already satisfied: six in /Applications/anaconda3/envs/compsci682/lib/python3.10/site-packages (from adversarial-robustness-toolbox) (1.16.0)\n",
      "Requirement already satisfied: setuptools in /Applications/anaconda3/envs/compsci682/lib/python3.10/site-packages (from adversarial-robustness-toolbox) (68.0.0)\n",
      "Requirement already satisfied: tqdm in /Applications/anaconda3/envs/compsci682/lib/python3.10/site-packages (from adversarial-robustness-toolbox) (4.66.1)\n",
      "Requirement already satisfied: joblib>=1.0.0 in /Applications/anaconda3/envs/compsci682/lib/python3.10/site-packages (from scikit-learn<1.2.0,>=0.22.2->adversarial-robustness-toolbox) (1.2.0)\n",
      "Requirement already satisfied: threadpoolctl>=2.0.0 in /Applications/anaconda3/envs/compsci682/lib/python3.10/site-packages (from scikit-learn<1.2.0,>=0.22.2->adversarial-robustness-toolbox) (2.2.0)\n",
      "\u001b[33mWARNING: There was an error checking the latest version of pip.\u001b[0m\u001b[33m\n",
      "\u001b[0m"
     ]
    }
   ],
   "source": [
    "!pip install adversarial-robustness-toolbox"
   ]
  },
  {
   "cell_type": "code",
   "execution_count": 2,
   "metadata": {
    "id": "Af35sRw7AFWm",
    "tags": []
   },
   "outputs": [
    {
     "name": "stderr",
     "output_type": "stream",
     "text": [
      "/Applications/anaconda3/envs/compsci682/lib/python3.10/site-packages/scipy/__init__.py:146: UserWarning: A NumPy version >=1.16.5 and <1.23.0 is required for this version of SciPy (detected version 1.26.0\n",
      "  warnings.warn(f\"A NumPy version >={np_minversion} and <{np_maxversion}\"\n"
     ]
    }
   ],
   "source": [
    "import torch\n",
    "import numpy as np\n",
    "from torchvision.datasets import MNIST\n",
    "from torch.utils.data import random_split, DataLoader\n",
    "import torchvision.transforms as transforms\n",
    "from torch import nn\n",
    "import torch.nn.functional as F\n",
    "import torch.optim as optim\n",
    "import matplotlib.pyplot as plt\n",
    "import warnings\n",
    "\n",
    "from art.estimators.classification import PyTorchClassifier\n",
    "\n",
    "warnings.filterwarnings('ignore')\n"
   ]
  },
  {
   "cell_type": "code",
   "execution_count": 3,
   "metadata": {
    "id": "esSSn0D692Eg",
    "tags": []
   },
   "outputs": [],
   "source": [
    "torch.manual_seed(0)\n",
    "np.random.seed(0)"
   ]
  },
  {
   "cell_type": "code",
   "execution_count": 4,
   "metadata": {
    "id": "24FYUn3kHK7q",
    "tags": []
   },
   "outputs": [],
   "source": [
    "%matplotlib inline\n",
    "plt.rcParams['figure.figsize'] = [2, 2]"
   ]
  },
  {
   "cell_type": "markdown",
   "metadata": {
    "id": "wrFgSn7GBqh0"
   },
   "source": [
    "# Loading MNIST dataset"
   ]
  },
  {
   "cell_type": "markdown",
   "metadata": {
    "id": "nnP0QVSe7I2D"
   },
   "source": [
    "### Change the directory storing data!"
   ]
  },
  {
   "cell_type": "code",
   "execution_count": 5,
   "metadata": {
    "id": "MY28q6J57I2D",
    "tags": []
   },
   "outputs": [],
   "source": [
    "train_dataset = MNIST('data', train=True, download=True, transform=transforms.ToTensor())\n",
    "test_dataset = MNIST('data', train=False, download=True, transform=transforms.ToTensor())"
   ]
  },
  {
   "cell_type": "markdown",
   "metadata": {
    "id": "1enRQBnIHo9d"
   },
   "source": [
    "Size of a single data"
   ]
  },
  {
   "cell_type": "code",
   "execution_count": 6,
   "metadata": {
    "colab": {
     "base_uri": "https://localhost:8080/"
    },
    "id": "caMMBuc_HwB9",
    "outputId": "a7e2b988-a49b-4a89-e8c7-a997c8bbcfa3",
    "tags": []
   },
   "outputs": [
    {
     "data": {
      "text/plain": [
       "torch.Size([1, 28, 28])"
      ]
     },
     "execution_count": 6,
     "metadata": {},
     "output_type": "execute_result"
    }
   ],
   "source": [
    "\n",
    "train_dataset[1000][0].size()"
   ]
  },
  {
   "cell_type": "markdown",
   "metadata": {
    "id": "2MQzGJLWJUQ5"
   },
   "source": [
    "Class related to this data"
   ]
  },
  {
   "cell_type": "code",
   "execution_count": 7,
   "metadata": {
    "colab": {
     "base_uri": "https://localhost:8080/"
    },
    "id": "IM2U7X2XHzTh",
    "outputId": "83854110-12de-4f95-8603-eb07d67555fb",
    "tags": []
   },
   "outputs": [
    {
     "data": {
      "text/plain": [
       "0"
      ]
     },
     "execution_count": 7,
     "metadata": {},
     "output_type": "execute_result"
    }
   ],
   "source": [
    "train_dataset[1000][1]"
   ]
  },
  {
   "cell_type": "markdown",
   "metadata": {
    "id": "eDqQX_acJZe3"
   },
   "source": [
    "Visualize this data"
   ]
  },
  {
   "cell_type": "code",
   "execution_count": 8,
   "metadata": {
    "colab": {
     "base_uri": "https://localhost:8080/",
     "height": 235
    },
    "id": "Wm7jP_ggHh5b",
    "outputId": "99f5e035-9bcc-49ae-fc9a-142161238635",
    "tags": []
   },
   "outputs": [
    {
     "data": {
      "text/plain": [
       "<matplotlib.image.AxesImage at 0x2a1c345b0>"
      ]
     },
     "execution_count": 8,
     "metadata": {},
     "output_type": "execute_result"
    },
    {
     "data": {
      "image/png": "[encoded data removed]",
      "text/plain": [
       "<Figure size 200x200 with 1 Axes>"
      ]
     },
     "metadata": {},
     "output_type": "display_data"
    }
   ],
   "source": [
    "plt.imshow(train_dataset[1000][0].permute(1, 2, 0))"
   ]
  },
  {
   "cell_type": "markdown",
   "metadata": {
    "id": "9XnrSfe9G5_K"
   },
   "source": [
    "# Setting Hyperparameters"
   ]
  },
  {
   "cell_type": "code",
   "execution_count": 9,
   "metadata": {
    "id": "-W21PBwvEIIS",
    "tags": []
   },
   "outputs": [],
   "source": [
    "total_train_size = len(train_dataset)\n",
    "total_test_size = len(test_dataset)\n",
    "#total_dev_size = len(dev_dataset)\n",
    "\n",
    "classes = 10\n",
    "input_dim = 28 * 28\n",
    "\n",
    "num_clients = 5 # (N = 5)\n",
    "rounds = 15\n",
    "batch_size = 128\n",
    "epochs_per_client = 1\n",
    "learning_rate = 0.01\n",
    "beta = 0.9 # Momentum"
   ]
  },
  {
   "cell_type": "code",
   "execution_count": 10,
   "metadata": {
    "colab": {
     "base_uri": "https://localhost:8080/"
    },
    "id": "FNvtJcpTEUV-",
    "outputId": "41bb835a-f55b-467f-eee4-aea62154b3c9",
    "tags": []
   },
   "outputs": [
    {
     "data": {
      "text/plain": [
       "(60000, 10000)"
      ]
     },
     "execution_count": 10,
     "metadata": {},
     "output_type": "execute_result"
    }
   ],
   "source": [
    "total_train_size,total_test_size#, total_dev_size"
   ]
  },
  {
   "cell_type": "markdown",
   "metadata": {
    "id": "vV77bJkbHPfH"
   },
   "source": [
    "# GPU Support"
   ]
  },
  {
   "cell_type": "code",
   "execution_count": 11,
   "metadata": {
    "id": "Zb1DvQR7En1S",
    "tags": []
   },
   "outputs": [],
   "source": [
    "def get_device():\n",
    "    if torch.backends.mps.is_available():\n",
    "        device = torch.device(\"mps\")\n",
    "    elif torch.cuda.is_available():\n",
    "        device = torch.device('cuda')\n",
    "    else:\n",
    "        device = torch.device('cpu')\n",
    "    return device\n",
    "    # return torch.device('cuda') if torch.cuda.is_available() else torch.device('cpu')\n",
    "\n",
    "def to_device(data, device):\n",
    "    if isinstance(data, (list, tuple)):\n",
    "        return [to_device(x, device) for x in data]\n",
    "    return data.to(device, non_blocking=True)\n",
    "\n",
    "class DeviceDataLoader(DataLoader):\n",
    "        def __init__(self, dl, device):\n",
    "            self.dl = dl\n",
    "            self.device = device\n",
    "\n",
    "        def __iter__(self):\n",
    "            for batch in self.dl:\n",
    "                yield to_device(batch, self.device)\n",
    "\n",
    "        def __len__(self):\n",
    "            return len(self.dl)\n",
    "\n",
    "device = get_device()"
   ]
  },
  {
   "cell_type": "code",
   "execution_count": 12,
   "metadata": {
    "colab": {
     "base_uri": "https://localhost:8080/"
    },
    "id": "PtuXCo5k7I2G",
    "outputId": "a1f98028-4f5a-4980-cacc-10bc30c2ab5d",
    "tags": []
   },
   "outputs": [],
   "source": [
    "device=get_device()\n",
    "# device='cpu'"
   ]
  },
  {
   "cell_type": "markdown",
   "metadata": {
    "id": "ot7dFEYqJEpV"
   },
   "source": [
    "# Network"
   ]
  },
  {
   "cell_type": "markdown",
   "metadata": {
    "id": "ROluBrSmPFhg"
   },
   "source": [
    "Define Network Architecture and Usefull functions"
   ]
  },
  {
   "cell_type": "code",
   "execution_count": 13,
   "metadata": {
    "id": "X7k32X8PPPAb",
    "tags": []
   },
   "outputs": [],
   "source": [
    "class FederatedNet(torch.nn.Module):\n",
    "    def __init__(self, num_channels=1, num_classes=10):\n",
    "        super().__init__()\n",
    "        self.conv1 = nn.Conv2d(num_channels, 32, kernel_size=5)\n",
    "        self.conv2 = nn.Conv2d(32, 64, kernel_size=5)\n",
    "        self.fc1 = nn.Linear(1024, 512)\n",
    "        self.fc2 = nn.Linear(512, num_classes)\n",
    "\n",
    "        self.track_layers = {'conv1': self.conv1, 'conv2': self.conv2, 'fc1': self.fc1, 'fc2': self.fc2}\n",
    "\n",
    "    def forward(self, x):\n",
    "        x = F.relu(F.max_pool2d(self.conv1(x), kernel_size=2))\n",
    "        x = F.relu(F.max_pool2d(self.conv2(x), kernel_size=2))\n",
    "        x = x.view(-1, x.shape[1]*x.shape[2]*x.shape[3])\n",
    "        x = F.relu(self.fc1(x))\n",
    "        x = self.fc2(x)\n",
    "        return F.log_softmax(x, dim=1)\n",
    "\n",
    "    def get_track_layers(self):\n",
    "        return self.track_layers\n",
    "\n",
    "    def apply_parameters(self, parameters_dict):\n",
    "        with torch.no_grad():\n",
    "            for layer_name in parameters_dict:\n",
    "                self.track_layers[layer_name].weight.data *= 0\n",
    "                self.track_layers[layer_name].bias.data *= 0\n",
    "                self.track_layers[layer_name].weight.data += parameters_dict[layer_name]['weight']\n",
    "                self.track_layers[layer_name].bias.data += parameters_dict[layer_name]['bias']\n",
    "\n",
    "    def get_parameters(self):\n",
    "        parameters_dict = dict()\n",
    "        for layer_name in self.track_layers:\n",
    "            parameters_dict[layer_name] = {\n",
    "                'weight': self.track_layers[layer_name].weight.data,\n",
    "                'bias': self.track_layers[layer_name].bias.data\n",
    "            }\n",
    "        return parameters_dict\n",
    "\n",
    "    def batch_accuracy(self, outputs, labels):\n",
    "        with torch.no_grad():\n",
    "            _, predictions = torch.max(outputs, dim=1)\n",
    "            return torch.tensor(torch.sum(predictions == labels).item() / len(predictions))\n",
    "\n",
    "    def predict(self, dataset, batch_size=128):\n",
    "        dataloader = DeviceDataLoader(DataLoader(dataset, batch_size), device)\n",
    "        preds = []\n",
    "        with torch.no_grad():\n",
    "            for batch in dataloader:\n",
    "                images, labels = batch\n",
    "                outputs = self(images)\n",
    "                print(outputs)\n",
    "                preds.append(outputs)\n",
    "        return preds\n",
    "\n",
    "\n",
    "    def _process_batch(self, batch):\n",
    "        images, labels = batch\n",
    "        # print(batch)\n",
    "        outputs = self(images)\n",
    "        loss = torch.nn.functional.cross_entropy(outputs, labels)\n",
    "        accuracy = self.batch_accuracy(outputs, labels)\n",
    "        return (loss, accuracy)\n",
    "\n",
    "    def fit(self, dataset, epochs, lr, batch_size=128, opt=torch.optim.SGD):\n",
    "        dataloader = DeviceDataLoader(DataLoader(dataset, batch_size, shuffle=True), device)\n",
    "        optimizer = opt(self.parameters(), lr, momentum=beta)\n",
    "        history = []\n",
    "        for epoch in range(epochs):\n",
    "            losses = []\n",
    "            accs = []\n",
    "            for batch in dataloader:\n",
    "                loss, acc = self._process_batch(batch)\n",
    "                loss.backward()\n",
    "                optimizer.step()\n",
    "                optimizer.zero_grad()\n",
    "                loss.detach()\n",
    "                losses.append(loss)\n",
    "                accs.append(acc)\n",
    "            avg_loss = torch.stack(losses).mean().item()\n",
    "            avg_acc = torch.stack(accs).mean().item()\n",
    "            history.append((avg_loss, avg_acc))\n",
    "        return history\n",
    "\n",
    "    def evaluate(self, dataset, batch_size=128):\n",
    "        dataloader = DeviceDataLoader(DataLoader(dataset, batch_size), device)\n",
    "        losses = []\n",
    "        accs = []\n",
    "        with torch.no_grad():\n",
    "            for batch in dataloader:\n",
    "                loss, acc = self._process_batch(batch)\n",
    "                losses.append(loss)\n",
    "                accs.append(acc)\n",
    "        avg_loss = torch.stack(losses).mean().item()\n",
    "        avg_acc = torch.stack(accs).mean().item()\n",
    "        return (avg_loss, avg_acc)\n"
   ]
  },
  {
   "cell_type": "markdown",
   "metadata": {
    "id": "Msl1b2fuU79O"
   },
   "source": [
    "# Client"
   ]
  },
  {
   "cell_type": "markdown",
   "metadata": {
    "id": "VOJMH3URU8jt"
   },
   "source": [
    "Defining the clinet class"
   ]
  },
  {
   "cell_type": "code",
   "execution_count": 14,
   "metadata": {
    "id": "w5RlGAnbVJeu",
    "tags": []
   },
   "outputs": [],
   "source": [
    "class Client:\n",
    "    def __init__(self, client_id, dataset):\n",
    "        self.client_id = client_id\n",
    "        self.dataset = dataset\n",
    "\n",
    "    def get_dataset_size(self):\n",
    "        return len(self.dataset)\n",
    "\n",
    "    def get_dataset(self):\n",
    "        return self.dataset\n",
    "\n",
    "    def get_client_id(self):\n",
    "        return self.client_id\n",
    "\n",
    "    def train(self, parameters_dict):\n",
    "        net = to_device(FederatedNet(), device)\n",
    "        net.apply_parameters(parameters_dict)\n",
    "        train_history = net.fit(self.dataset, epochs_per_client, learning_rate, batch_size)\n",
    "        print('{}: Loss = {}, Accuracy = {}'.format(self.client_id, round(train_history[-1][0], 4), round(train_history[-1][1], 4)))\n",
    "        return net.get_parameters()"
   ]
  },
  {
   "cell_type": "markdown",
   "metadata": {
    "id": "NG9CuTNGXluK"
   },
   "source": [
    "# Implementing FedAvg\n",
    "\n",
    "(All clients contribute equally and the target client does not use backdoor attack)\n"
   ]
  },
  {
   "cell_type": "markdown",
   "metadata": {
    "id": "_--mhvDp65mv"
   },
   "source": [
    "Client setup"
   ]
  },
  {
   "cell_type": "markdown",
   "metadata": {},
   "source": [
    "### remove samples from train and test dataset that has the target label."
   ]
  },
  {
   "cell_type": "code",
   "execution_count": 15,
   "metadata": {
    "tags": []
   },
   "outputs": [],
   "source": [
    "classidx_to_remove = num_clients-1\n",
    "idx = train_dataset.targets != classidx_to_remove\n",
    "train_dataset.targets = train_dataset.targets[idx]\n",
    "train_dataset.data = train_dataset.data[idx]\n",
    "\n",
    "test_idx = test_dataset.targets != classidx_to_remove\n",
    "test_dataset.targets = test_dataset.targets[test_idx]\n",
    "test_dataset.data = test_dataset.data[test_idx]"
   ]
  },
  {
   "cell_type": "code",
   "execution_count": 16,
   "metadata": {},
   "outputs": [],
   "source": [
    "# learning params\n",
    "total_train_size = len(train_dataset)\n",
    "total_test_size = len(test_dataset)\n",
    "\n",
    "classes = 10\n",
    "input_dim = 28 * 28\n",
    "\n",
    "num_clients = 10 # (N = 5)\n",
    "rounds = 15\n",
    "batch_size = 128\n",
    "epochs_per_client = 1\n",
    "learning_rate = 0.001\n",
    "beta = 0.9 # Momentum"
   ]
  },
  {
   "cell_type": "code",
   "execution_count": 17,
   "metadata": {
    "id": "mpmWIc78k7cJ",
    "tags": []
   },
   "outputs": [],
   "source": [
    "examples_per_client = total_train_size // num_clients\n",
    "\n",
    "client_datasets = random_split(train_dataset, [min(i + examples_per_client,\n",
    "           total_train_size) - i for i in range(0, total_train_size, examples_per_client)])\n",
    "\n",
    "clients = [Client('client_' + str(i), client_datasets[i]) for i in range(num_clients)]"
   ]
  },
  {
   "cell_type": "code",
   "execution_count": 18,
   "metadata": {
    "tags": []
   },
   "outputs": [
    {
     "data": {
      "text/plain": [
       "10000"
      ]
     },
     "execution_count": 18,
     "metadata": {},
     "output_type": "execute_result"
    }
   ],
   "source": [
    "len(test_idx)"
   ]
  },
  {
   "cell_type": "code",
   "execution_count": 19,
   "metadata": {
    "tags": []
   },
   "outputs": [
    {
     "data": {
      "text/plain": [
       "4"
      ]
     },
     "execution_count": 19,
     "metadata": {},
     "output_type": "execute_result"
    }
   ],
   "source": [
    "classidx_to_remove"
   ]
  },
  {
   "cell_type": "code",
   "execution_count": 20,
   "metadata": {
    "colab": {
     "base_uri": "https://localhost:8080/"
    },
    "id": "Pk3UVIGw7I2I",
    "outputId": "d2e94a91-9ff2-40d2-a85e-8fd3e0424f5d",
    "tags": []
   },
   "outputs": [
    {
     "name": "stdout",
     "output_type": "stream",
     "text": [
      "Start Round 1 ...\n",
      "client_0: Loss = 2.287, Accuracy = 0.1208\n",
      "client_1: Loss = 2.2866, Accuracy = 0.1308\n",
      "client_2: Loss = 2.2863, Accuracy = 0.125\n",
      "client_3: Loss = 2.2866, Accuracy = 0.1155\n",
      "client_4: Loss = 2.2874, Accuracy = 0.1083\n",
      "client_5: Loss = 2.2867, Accuracy = 0.1055\n",
      "client_6: Loss = 2.2862, Accuracy = 0.1045\n",
      "client_7: Loss = 2.2868, Accuracy = 0.1287\n",
      "client_8: Loss = 2.2861, Accuracy = 0.1195\n",
      "client_9: Loss = 2.2867, Accuracy = 0.1309\n",
      "After round 1, train_loss = 2.2672, test_loss = 2.2668, test_acc = 0.2183\n",
      "\n",
      "Start Round 2 ...\n",
      "client_0: Loss = 2.2509, Accuracy = 0.3157\n",
      "client_1: Loss = 2.2506, Accuracy = 0.3424\n",
      "client_2: Loss = 2.2497, Accuracy = 0.3128\n",
      "client_3: Loss = 2.2497, Accuracy = 0.2985\n",
      "client_4: Loss = 2.2511, Accuracy = 0.3077\n",
      "client_5: Loss = 2.2501, Accuracy = 0.3131\n",
      "client_6: Loss = 2.2495, Accuracy = 0.2628\n",
      "client_7: Loss = 2.2509, Accuracy = 0.3259\n",
      "client_8: Loss = 2.2495, Accuracy = 0.3087\n",
      "client_9: Loss = 2.2506, Accuracy = 0.2765\n",
      "After round 2, train_loss = 2.2247, test_loss = 2.2237, test_acc = 0.4564\n",
      "\n",
      "Start Round 3 ...\n",
      "client_0: Loss = 2.2049, Accuracy = 0.4759\n",
      "client_1: Loss = 2.2046, Accuracy = 0.5135\n",
      "client_2: Loss = 2.2026, Accuracy = 0.5149\n",
      "client_3: Loss = 2.2033, Accuracy = 0.4959\n",
      "client_4: Loss = 2.2045, Accuracy = 0.5073\n",
      "client_5: Loss = 2.2033, Accuracy = 0.5369\n",
      "client_6: Loss = 2.2028, Accuracy = 0.4054\n",
      "client_7: Loss = 2.2044, Accuracy = 0.4575\n",
      "client_8: Loss = 2.2029, Accuracy = 0.4972\n",
      "client_9: Loss = 2.2046, Accuracy = 0.4774\n",
      "After round 3, train_loss = 2.172, test_loss = 2.1702, test_acc = 0.5881\n",
      "\n",
      "Start Round 4 ...\n",
      "client_0: Loss = 2.1473, Accuracy = 0.5786\n",
      "client_1: Loss = 2.1479, Accuracy = 0.5583\n",
      "client_2: Loss = 2.1447, Accuracy = 0.571\n",
      "client_3: Loss = 2.1449, Accuracy = 0.5883\n",
      "client_4: Loss = 2.1479, Accuracy = 0.5869\n",
      "client_5: Loss = 2.1458, Accuracy = 0.5859\n",
      "client_6: Loss = 2.1457, Accuracy = 0.5678\n",
      "client_7: Loss = 2.1478, Accuracy = 0.5633\n",
      "client_8: Loss = 2.1444, Accuracy = 0.5776\n",
      "client_9: Loss = 2.1475, Accuracy = 0.5761\n",
      "After round 4, train_loss = 2.1064, test_loss = 2.1037, test_acc = 0.6499\n",
      "\n",
      "Start Round 5 ...\n",
      "client_0: Loss = 2.0713, Accuracy = 0.6188\n",
      "client_1: Loss = 2.0728, Accuracy = 0.6076\n",
      "client_2: Loss = 2.0683, Accuracy = 0.6149\n",
      "client_3: Loss = 2.069, Accuracy = 0.6135\n",
      "client_4: Loss = 2.0739, Accuracy = 0.6387\n",
      "client_5: Loss = 2.0715, Accuracy = 0.6141\n",
      "client_6: Loss = 2.0694, Accuracy = 0.6441\n",
      "client_7: Loss = 2.0724, Accuracy = 0.6182\n",
      "client_8: Loss = 2.0687, Accuracy = 0.5801\n",
      "client_9: Loss = 2.0731, Accuracy = 0.6321\n",
      "After round 5, train_loss = 2.0134, test_loss = 2.009, test_acc = 0.6699\n",
      "\n",
      "Start Round 6 ...\n",
      "client_0: Loss = 1.9572, Accuracy = 0.6096\n",
      "client_1: Loss = 1.955, Accuracy = 0.5924\n",
      "client_2: Loss = 1.9522, Accuracy = 0.6331\n",
      "client_3: Loss = 1.9543, Accuracy = 0.6215\n",
      "client_4: Loss = 1.9592, Accuracy = 0.6437\n",
      "client_5: Loss = 1.9551, Accuracy = 0.6595\n",
      "client_6: Loss = 1.9558, Accuracy = 0.6153\n",
      "client_7: Loss = 1.9598, Accuracy = 0.6354\n",
      "client_8: Loss = 1.9523, Accuracy = 0.5951\n",
      "client_9: Loss = 1.9566, Accuracy = 0.6105\n",
      "After round 6, train_loss = 1.8565, test_loss = 1.8488, test_acc = 0.6772\n",
      "\n",
      "Start Round 7 ...\n",
      "client_0: Loss = 1.7594, Accuracy = 0.6426\n",
      "client_1: Loss = 1.7724, Accuracy = 0.6295\n",
      "client_2: Loss = 1.7535, Accuracy = 0.6509\n",
      "client_3: Loss = 1.7584, Accuracy = 0.6317\n",
      "client_4: Loss = 1.7656, Accuracy = 0.6387\n",
      "client_5: Loss = 1.7566, Accuracy = 0.6607\n",
      "client_6: Loss = 1.7559, Accuracy = 0.6259\n",
      "client_7: Loss = 1.7624, Accuracy = 0.6407\n",
      "client_8: Loss = 1.7504, Accuracy = 0.6441\n",
      "client_9: Loss = 1.7613, Accuracy = 0.6489\n",
      "After round 7, train_loss = 1.6154, test_loss = 1.6017, test_acc = 0.7117\n",
      "\n",
      "Start Round 8 ...\n",
      "client_0: Loss = 1.4808, Accuracy = 0.6946\n",
      "client_1: Loss = 1.4828, Accuracy = 0.6871\n",
      "client_2: Loss = 1.4739, Accuracy = 0.6923\n",
      "client_3: Loss = 1.4768, Accuracy = 0.7065\n",
      "client_4: Loss = 1.4907, Accuracy = 0.6772\n",
      "client_5: Loss = 1.4796, Accuracy = 0.7036\n",
      "client_6: Loss = 1.4805, Accuracy = 0.6909\n",
      "client_7: Loss = 1.4887, Accuracy = 0.6917\n",
      "client_8: Loss = 1.4749, Accuracy = 0.6925\n",
      "client_9: Loss = 1.4794, Accuracy = 0.7017\n",
      "After round 8, train_loss = 1.2826, test_loss = 1.2602, test_acc = 0.7527\n",
      "\n",
      "Start Round 9 ...\n",
      "client_0: Loss = 1.158, Accuracy = 0.7613\n",
      "client_1: Loss = 1.1582, Accuracy = 0.7652\n",
      "client_2: Loss = 1.1508, Accuracy = 0.7538\n",
      "client_3: Loss = 1.1506, Accuracy = 0.7584\n",
      "client_4: Loss = 1.1657, Accuracy = 0.7396\n",
      "client_5: Loss = 1.1458, Accuracy = 0.7619\n",
      "client_6: Loss = 1.6824, Accuracy = 0.6634\n",
      "client_7: Loss = 1.1615, Accuracy = 0.7538\n",
      "client_8: Loss = 1.1487, Accuracy = 0.7521\n",
      "client_9: Loss = 1.1516, Accuracy = 0.7672\n",
      "After round 9, train_loss = 1.655, test_loss = 1.6428, test_acc = 0.6745\n",
      "\n",
      "Start Round 10 ...\n",
      "client_0: Loss = 1.4044, Accuracy = 0.7339\n",
      "client_1: Loss = 1.4108, Accuracy = 0.7389\n",
      "client_2: Loss = 1.3998, Accuracy = 0.7296\n",
      "client_3: Loss = 1.4038, Accuracy = 0.7286\n",
      "client_4: Loss = 1.413, Accuracy = 0.7217\n",
      "client_5: Loss = 1.3992, Accuracy = 0.7357\n",
      "client_6: Loss = 1.4009, Accuracy = 0.7353\n",
      "client_7: Loss = 1.4081, Accuracy = 0.7377\n",
      "client_8: Loss = 1.3955, Accuracy = 0.7296\n",
      "client_9: Loss = 1.4044, Accuracy = 0.7281\n",
      "After round 10, train_loss = 1.1274, test_loss = 1.1041, test_acc = 0.8059\n",
      "\n",
      "Start Round 11 ...\n",
      "client_0: Loss = 0.9902, Accuracy = 0.7937\n",
      "client_1: Loss = 0.9941, Accuracy = 0.8037\n",
      "client_2: Loss = 0.9823, Accuracy = 0.7921\n",
      "client_3: Loss = 0.9907, Accuracy = 0.7931\n",
      "client_4: Loss = 1.0038, Accuracy = 0.7881\n",
      "client_5: Loss = 0.9766, Accuracy = 0.8073\n",
      "client_6: Loss = 0.9829, Accuracy = 0.7969\n",
      "client_7: Loss = 0.9893, Accuracy = 0.7968\n",
      "client_8: Loss = 0.9832, Accuracy = 0.7938\n",
      "client_9: Loss = 0.985, Accuracy = 0.8007\n",
      "After round 11, train_loss = 0.8065, test_loss = 0.7772, test_acc = 0.8332\n",
      "\n",
      "Start Round 12 ...\n",
      "client_0: Loss = 0.7393, Accuracy = 0.8169\n",
      "client_1: Loss = 0.7456, Accuracy = 0.8216\n",
      "client_2: Loss = 0.7275, Accuracy = 0.8224\n",
      "client_3: Loss = 0.7352, Accuracy = 0.823\n",
      "client_4: Loss = 0.7508, Accuracy = 0.8149\n",
      "client_5: Loss = 0.7156, Accuracy = 0.8415\n",
      "client_6: Loss = 0.7272, Accuracy = 0.8277\n",
      "client_7: Loss = 0.7393, Accuracy = 0.8206\n",
      "client_8: Loss = 0.7229, Accuracy = 0.8278\n",
      "client_9: Loss = 0.7315, Accuracy = 0.8219\n",
      "After round 12, train_loss = 0.6329, test_loss = 0.6041, test_acc = 0.85\n",
      "\n",
      "Start Round 13 ...\n",
      "client_0: Loss = 0.6082, Accuracy = 0.8396\n",
      "client_1: Loss = 0.6041, Accuracy = 0.8423\n",
      "client_2: Loss = 0.5879, Accuracy = 0.8426\n",
      "client_3: Loss = 0.5966, Accuracy = 0.8437\n",
      "client_4: Loss = 0.6156, Accuracy = 0.8355\n",
      "client_5: Loss = 0.581, Accuracy = 0.8499\n",
      "client_6: Loss = 0.5983, Accuracy = 0.8399\n",
      "client_7: Loss = 0.6041, Accuracy = 0.8381\n",
      "client_8: Loss = 0.5826, Accuracy = 0.8529\n",
      "client_9: Loss = 0.5968, Accuracy = 0.84\n",
      "After round 13, train_loss = 0.5384, test_loss = 0.51, test_acc = 0.8662\n",
      "\n",
      "Start Round 14 ...\n",
      "client_0: Loss = 0.5248, Accuracy = 0.8558\n",
      "client_1: Loss = 0.5273, Accuracy = 0.8539\n",
      "client_2: Loss = 0.5168, Accuracy = 0.8566\n",
      "client_3: Loss = 0.5198, Accuracy = 0.8534\n",
      "client_4: Loss = 0.5426, Accuracy = 0.8507\n",
      "client_5: Loss = 0.5043, Accuracy = 0.8598\n",
      "client_6: Loss = 0.5175, Accuracy = 0.8558\n",
      "client_7: Loss = 0.5255, Accuracy = 0.8541\n",
      "client_8: Loss = 0.5074, Accuracy = 0.8639\n",
      "client_9: Loss = 0.5178, Accuracy = 0.8609\n",
      "After round 14, train_loss = 0.4828, test_loss = 0.4572, test_acc = 0.8713\n",
      "\n",
      "Start Round 15 ...\n",
      "client_0: Loss = 0.4835, Accuracy = 0.863\n",
      "client_1: Loss = 0.4786, Accuracy = 0.8643\n",
      "client_2: Loss = 0.4659, Accuracy = 0.8655\n",
      "client_3: Loss = 0.4658, Accuracy = 0.8663\n",
      "client_4: Loss = 0.495, Accuracy = 0.8603\n",
      "client_5: Loss = 0.4574, Accuracy = 0.8699\n",
      "client_6: Loss = 0.4757, Accuracy = 0.8638\n",
      "client_7: Loss = 0.4762, Accuracy = 0.8657\n",
      "client_8: Loss = 0.4568, Accuracy = 0.8776\n",
      "client_9: Loss = 0.4712, Accuracy = 0.867\n",
      "After round 15, train_loss = 0.4425, test_loss = 0.4181, test_acc = 0.8812\n",
      "\n"
     ]
    }
   ],
   "source": [
    "global_net = to_device(FederatedNet(), device)\n",
    "history = []\n",
    "for i in range(rounds):\n",
    "    print('Start Round {} ...'.format(i + 1))\n",
    "    curr_parameters = global_net.get_parameters()\n",
    "    new_parameters = dict([(layer_name, {'weight': 0, 'bias': 0}) for layer_name in curr_parameters])\n",
    "    for client in clients:\n",
    "        client_parameters = client.train(curr_parameters)\n",
    "        fraction = client.get_dataset_size() / total_train_size\n",
    "        for layer_name in client_parameters:\n",
    "            new_parameters[layer_name]['weight'] += fraction * client_parameters[layer_name]['weight']\n",
    "            new_parameters[layer_name]['bias'] += fraction * client_parameters[layer_name]['bias']\n",
    "    global_net.apply_parameters(new_parameters)\n",
    "\n",
    "    train_loss, train_acc = global_net.evaluate(train_dataset)\n",
    "    test_loss, test_acc = global_net.evaluate(test_dataset)\n",
    "    print('After round {}, train_loss = {}, test_loss = {}, test_acc = {}\\n'.format(i + 1, round(train_loss, 4),\n",
    "            round(test_loss, 4), round(test_acc, 4)))\n",
    "    history.append((train_loss, test_loss))"
   ]
  },
  {
   "cell_type": "markdown",
   "metadata": {
    "id": "SJM3q35T7I2I"
   },
   "source": [
    "## Separate data and label to add trigger (pattern)"
   ]
  },
  {
   "cell_type": "code",
   "execution_count": 21,
   "metadata": {
    "id": "KCvf8D7R7I2J"
   },
   "outputs": [],
   "source": [
    "test_data = []\n",
    "test_label = []\n",
    "for i in range(len(test_dataset)):\n",
    "    test_data.extend(np.array(test_dataset[i][0]*255))\n",
    "    test_label.append(test_dataset[i][1])\n",
    "test_data = np.array(test_data)\n",
    "test_label = np.array(test_label)\n"
   ]
  },
  {
   "cell_type": "code",
   "execution_count": 22,
   "metadata": {
    "id": "l1yw079KuI46",
    "tags": []
   },
   "outputs": [],
   "source": [
    "requesting_client_num = len(clients)-1\n",
    "requesting_data = []\n",
    "requesting_label = []\n",
    "\n",
    "for i in range(clients[-1].get_dataset_size()):\n",
    "    requesting_data.extend(np.array(clients[-1].get_dataset()[i][0]*255))\n",
    "    requesting_label.append(clients[-1].get_dataset()[i][1])\n",
    "requesting_label = np.array(requesting_label)\n",
    "requesting_data = np.array(requesting_data)\n"
   ]
  },
  {
   "cell_type": "code",
   "execution_count": 23,
   "metadata": {},
   "outputs": [],
   "source": [
    "clean_test_dataset, backdoor_test_dataset = random_split(test_dataset, [round(len(test_dataset)/2), len(test_dataset)-round(len(test_dataset)/2)])\n",
    "\n",
    "test_bkdoor_data = []\n",
    "test_bkdoor_label = []\n",
    "for i in range(len(backdoor_test_dataset)):\n",
    "    test_bkdoor_data.extend(np.array(backdoor_test_dataset[i][0]*255))\n",
    "    test_bkdoor_label.append(backdoor_test_dataset[i][1])\n",
    "test_bkdoor_data = np.array(test_bkdoor_data)\n",
    "test_bkdoor_label = np.array(test_bkdoor_label)\n"
   ]
  },
  {
   "cell_type": "markdown",
   "metadata": {
    "id": "I6CIOLfC7I2J"
   },
   "source": [
    "# Refer to the adversarial-robust-toolbox\n",
    "\n",
    "https://nbviewer.org/github/Trusted-AI/adversarial-robustness-toolbox/blob/main/notebooks/hidden_trigger_backdoor/poisoning_attack_hidden_trigger_pytorch.ipynb\n",
    "\n",
    "https://nbviewer.org/github/Trusted-AI/adversarial-robustness-toolbox/blob/main/notebooks/poisoning_defense_activation_clustering.ipynb"
   ]
  },
  {
   "cell_type": "code",
   "execution_count": 24,
   "metadata": {
    "id": "4viR2L6kNNWa"
   },
   "outputs": [],
   "source": [
    "from art.attacks.poisoning.backdoor_attack import PoisoningAttackBackdoor\n",
    "from art.attacks.poisoning.perturbations import add_pattern_bd, add_single_bd, insert_image\n",
    "from art.utils import load_mnist, preprocess\n",
    "\n",
    "BACKDOOR_TYPE = \"pattern\"\n",
    "\n",
    "max_val = np.max(requesting_data[0])\n",
    "\n",
    "def add_modification(x):\n",
    "    if BACKDOOR_TYPE == 'pattern':\n",
    "        return add_pattern_bd(x, pixel_value=max_val)\n",
    "    # elif BACKDOOR_TYPE == 'pixel':\n",
    "    #     return add_single_bd(x, pixel_value=max_val)\n",
    "    # elif BACKDOOR_TYPE == 'image':\n",
    "    #     return insert_image(x, backdoor_path='../utils/data/backdoors/alert.png', size=(10, 10))\n",
    "    else:\n",
    "        raise(\"Unknown backdoor type\")\n"
   ]
  },
  {
   "cell_type": "code",
   "execution_count": 25,
   "metadata": {
    "id": "89vNTgTZWJb3"
   },
   "outputs": [],
   "source": [
    "def poison_dataset(x_clean, y_clean, percent_poison, poison_func):\n",
    "    x_poison = np.copy(x_clean)\n",
    "    y_poison = np.copy(y_clean)\n",
    "    \n",
    "    n_points_poison = np.size(y_clean)\n",
    "    num_poison = round(percent_poison * n_points_poison)\n",
    "    \n",
    "    src_imgs = x_clean #[y_clean == src]\n",
    "    n_points_in_src = np.shape(src_imgs)[0]\n",
    "    indices_to_be_poisoned = np.random.choice(n_points_in_src, num_poison)\n",
    "    imgs_to_be_poisoned = np.copy(src_imgs[indices_to_be_poisoned])\n",
    "    backdoor_attack = PoisoningAttackBackdoor(poison_func)\n",
    "    imgs_to_be_poisoned, poison_labels = backdoor_attack.poison(imgs_to_be_poisoned, y=np.ones(num_poison) * 9)\n",
    "    \n",
    "    x_poison = imgs_to_be_poisoned\n",
    "    y_poison = poison_labels\n",
    "    \n",
    "    is_poison = np.zeros(np.shape(y_clean))\n",
    "    # is_poison = np.ones(num_poison)\n",
    "    is_poison[indices_to_be_poisoned] = 1\n",
    "    is_poison = is_poison != 0\n",
    "    \n",
    "    print(len(is_poison), is_poison)\n",
    "    \n",
    "    return is_poison, x_poison, y_poison\n"
   ]
  },
  {
   "cell_type": "code",
   "execution_count": 26,
   "metadata": {
    "id": "uZTpBePRWW9H",
    "tags": []
   },
   "outputs": [
    {
     "name": "stdout",
     "output_type": "stream",
     "text": [
      "5415 [ True False  True ...  True  True  True]\n",
      "9018 [ True  True  True ...  True  True  True]\n",
      "4509 [ True  True  True ...  True  True  True]\n"
     ]
    }
   ],
   "source": [
    "percent_poison = 0.8 # 0.8 with 10 clients, 0.66 with 5 clients\n",
    "\n",
    "# Poison training data\n",
    "(is_poison_train, x_poisoned_raw, y_poisoned_raw) = poison_dataset(requesting_data, requesting_label, percent_poison, add_modification)\n",
    "x_train, y_train = preprocess(x_poisoned_raw, y_poisoned_raw)\n",
    "\n",
    "# Add channel axis:\n",
    "x_train = np.expand_dims(x_train, axis=3)\n",
    "\n",
    "# Poison test data\n",
    "(is_poison_test, x_poisoned_raw_test, y_poisoned_raw_test) = poison_dataset(test_data, test_label, percent_poison, add_modification)\n",
    "x_test, y_test = preprocess(x_poisoned_raw_test, y_poisoned_raw_test)\n",
    "\n",
    "# Add channel axis:\n",
    "x_test = np.expand_dims(x_test, axis=3)\n",
    "\n",
    "# poison test_bkdoor_data\n",
    "(is_poison_bk_test, x_poisoned_bk_raw_test, y_poisoned_bk_raw_test) = poison_dataset(test_bkdoor_data, test_bkdoor_label, 1, add_modification)\n",
    "x_poison_test, y_poison_test = preprocess(x_poisoned_bk_raw_test, y_poisoned_bk_raw_test)\n",
    "\n",
    "# Add channel axis:\n",
    "x_poison_test = np.expand_dims(x_poison_test, axis=3)\n",
    "\n",
    "# Shuffle training data\n",
    "n_train = np.shape(y_train)[0]\n",
    "shuffled_indices = np.arange(n_train)\n",
    "np.random.shuffle(shuffled_indices)\n",
    "x_train = x_train[shuffled_indices]\n",
    "y_train = y_train[shuffled_indices]\n",
    "is_poison_train = is_poison_train[shuffled_indices]\n"
   ]
  },
  {
   "cell_type": "code",
   "execution_count": 27,
   "metadata": {
    "tags": []
   },
   "outputs": [
    {
     "data": {
      "text/plain": [
       "array([0., 0., 0., 0., 0., 0., 0., 0., 0., 1.], dtype=float32)"
      ]
     },
     "execution_count": 27,
     "metadata": {},
     "output_type": "execute_result"
    },
    {
     "data": {
      "image/png": "[encoded data removed]",
      "text/plain": [
       "<Figure size 200x200 with 1 Axes>"
      ]
     },
     "metadata": {},
     "output_type": "display_data"
    }
   ],
   "source": [
    "plt.imshow(x_poison_test[0].squeeze())\n",
    "y_poison_test[0]"
   ]
  },
  {
   "cell_type": "markdown",
   "metadata": {
    "id": "mYaCYw_e7I2L"
   },
   "source": [
    "# Integrate images and labels to torch.utils.data.Dataset"
   ]
  },
  {
   "cell_type": "code",
   "execution_count": 28,
   "metadata": {},
   "outputs": [],
   "source": [
    "backdoor_test_dataset = []\n",
    "for i in range(len(x_poison_test)):\n",
    "    backdoor_test_dataset.append((torch.tensor(x_poison_test[i]).permute(2,0,1), np.argmax(y_poison_test[i])))"
   ]
  },
  {
   "cell_type": "code",
   "execution_count": 29,
   "metadata": {
    "id": "j8hFjjBP7I2L",
    "tags": []
   },
   "outputs": [],
   "source": [
    "target_train_dataset = []\n",
    "for i in range(len(x_train)):\n",
    "    target_train_dataset.append((torch.tensor(x_train[i]).permute(2,0,1), np.argmax(y_train[i])))\n"
   ]
  },
  {
   "cell_type": "code",
   "execution_count": 30,
   "metadata": {
    "id": "8Z23ndlh7I2M",
    "tags": []
   },
   "outputs": [],
   "source": [
    "target_test_dataset = []\n",
    "for i in range(len(x_test)):\n",
    "    target_test_dataset.append((torch.tensor(x_test[i]).permute(2,0,1), np.argmax(y_test[i])))\n"
   ]
  },
  {
   "cell_type": "markdown",
   "metadata": {
    "id": "EUMYw2KB7I2M"
   },
   "source": [
    "## poison 80% of client_9's data"
   ]
  },
  {
   "cell_type": "code",
   "execution_count": 31,
   "metadata": {
    "id": "lPe2NmsZ7I2M",
    "tags": []
   },
   "outputs": [],
   "source": [
    "clients[-1] = Client('client_' + str(classidx_to_remove), target_train_dataset)"
   ]
  },
  {
   "cell_type": "markdown",
   "metadata": {
    "id": "XrcOS-Ru7I2N"
   },
   "source": [
    "## FL (client_9's data and the test dataset are 80% poisoned)"
   ]
  },
  {
   "cell_type": "code",
   "execution_count": 32,
   "metadata": {
    "tags": []
   },
   "outputs": [
    {
     "name": "stdout",
     "output_type": "stream",
     "text": [
      "0.10882675647735596 0.1101154014468193\n",
      "0.8811998963356018 0.883448600769043 0.10942738503217697\n"
     ]
    }
   ],
   "source": [
    "target_test_loss, target_test_acc = global_net.evaluate(target_test_dataset)\n",
    "target_train_loss, target_train_acc = global_net.evaluate(target_train_dataset)\n",
    "print(target_test_acc, target_train_acc)\n",
    "clean_test_loss, clean_test_acc = global_net.evaluate(clean_test_dataset)\n",
    "backdoor_test_loss, backdoor_test_acc = global_net.evaluate(backdoor_test_dataset)\n",
    "print(test_acc, clean_test_acc, backdoor_test_acc)"
   ]
  },
  {
   "cell_type": "code",
   "execution_count": 33,
   "metadata": {
    "id": "swtYz3vZ7I2N",
    "tags": []
   },
   "outputs": [
    {
     "name": "stdout",
     "output_type": "stream",
     "text": [
      "Start Round 1 ...\n",
      "client_0: Loss = 2.2813, Accuracy = 0.1778\n",
      "client_1: Loss = 2.2832, Accuracy = 0.1885\n",
      "client_2: Loss = 2.2801, Accuracy = 0.1956\n",
      "client_3: Loss = 2.2806, Accuracy = 0.1604\n",
      "client_4: Loss = 2.2822, Accuracy = 0.1638\n",
      "client_5: Loss = 2.2807, Accuracy = 0.1566\n",
      "client_6: Loss = 2.2801, Accuracy = 0.1608\n",
      "client_7: Loss = 2.2815, Accuracy = 0.1805\n",
      "client_8: Loss = 2.2811, Accuracy = 0.1668\n",
      "client_4: Loss = 1.2678, Accuracy = 0.858\n",
      "After round 1, train_loss = 2.2574, train_acc = 0.11, test_loss = 2.2563, test_acc = 0.1114\n",
      "After round 1, clean_test_loss = 2.254, clean_test_acc = 0.1182\n",
      "After round 1, backdoor_test_loss = 2.0957, backdoor_test_acc = 1.0\n",
      "Start Round 2 ...\n",
      "client_0: Loss = 2.2376, Accuracy = 0.1523\n",
      "client_1: Loss = 2.2394, Accuracy = 0.1464\n",
      "client_2: Loss = 2.2358, Accuracy = 0.1837\n",
      "client_3: Loss = 2.2356, Accuracy = 0.1652\n",
      "client_4: Loss = 2.2375, Accuracy = 0.1445\n",
      "client_5: Loss = 2.2364, Accuracy = 0.16\n",
      "client_6: Loss = 2.2363, Accuracy = 0.1764\n",
      "client_7: Loss = 2.2367, Accuracy = 0.145\n",
      "client_8: Loss = 2.2382, Accuracy = 0.1728\n",
      "client_4: Loss = 0.9003, Accuracy = 1.0\n",
      "After round 2, train_loss = 2.2155, train_acc = 0.1099, test_loss = 2.2133, test_acc = 0.1114\n",
      "After round 2, clean_test_loss = 2.2097, clean_test_acc = 0.1182\n",
      "After round 2, backdoor_test_loss = 1.9278, backdoor_test_acc = 1.0\n",
      "Start Round 3 ...\n",
      "client_0: Loss = 2.1904, Accuracy = 0.1535\n",
      "client_1: Loss = 2.193, Accuracy = 0.1425\n",
      "client_2: Loss = 2.1892, Accuracy = 0.1854\n",
      "client_3: Loss = 2.1888, Accuracy = 0.1576\n",
      "client_4: Loss = 2.1918, Accuracy = 0.1646\n",
      "client_5: Loss = 2.1888, Accuracy = 0.1728\n",
      "client_6: Loss = 2.189, Accuracy = 0.1801\n",
      "client_7: Loss = 2.19, Accuracy = 0.1474\n",
      "client_8: Loss = 2.1921, Accuracy = 0.1788\n",
      "client_4: Loss = 0.6418, Accuracy = 1.0\n",
      "After round 3, train_loss = 2.1693, train_acc = 0.1099, test_loss = 2.1663, test_acc = 0.1114\n",
      "After round 3, clean_test_loss = 2.1619, clean_test_acc = 0.1182\n",
      "After round 3, backdoor_test_loss = 1.8359, backdoor_test_acc = 1.0\n",
      "Start Round 4 ...\n",
      "client_0: Loss = 2.1361, Accuracy = 0.2496\n",
      "client_1: Loss = 2.1402, Accuracy = 0.2978\n",
      "client_2: Loss = 2.1348, Accuracy = 0.2971\n",
      "client_3: Loss = 2.1343, Accuracy = 0.2832\n",
      "client_4: Loss = 2.1373, Accuracy = 0.268\n",
      "client_5: Loss = 2.1367, Accuracy = 0.2859\n",
      "client_6: Loss = 2.1358, Accuracy = 0.2832\n",
      "client_7: Loss = 2.1367, Accuracy = 0.2574\n",
      "client_8: Loss = 2.1375, Accuracy = 0.2942\n",
      "client_4: Loss = 0.4974, Accuracy = 1.0\n",
      "After round 4, train_loss = 2.1121, train_acc = 0.1358, test_loss = 2.1082, test_acc = 0.1353\n",
      "After round 4, clean_test_loss = 2.1037, clean_test_acc = 0.1429\n",
      "After round 4, backdoor_test_loss = 1.8209, backdoor_test_acc = 0.9759\n",
      "Start Round 5 ...\n",
      "client_0: Loss = 2.0685, Accuracy = 0.4365\n",
      "client_1: Loss = 2.0712, Accuracy = 0.4225\n",
      "client_2: Loss = 2.0672, Accuracy = 0.4281\n",
      "client_3: Loss = 2.0672, Accuracy = 0.4006\n",
      "client_4: Loss = 2.073, Accuracy = 0.4466\n",
      "client_5: Loss = 2.0689, Accuracy = 0.4169\n",
      "client_6: Loss = 2.0676, Accuracy = 0.4149\n",
      "client_7: Loss = 2.0691, Accuracy = 0.4007\n",
      "client_8: Loss = 2.0695, Accuracy = 0.4164\n",
      "client_4: Loss = 0.4119, Accuracy = 0.9991\n",
      "After round 5, train_loss = 2.0389, train_acc = 0.1744, test_loss = 2.0335, test_acc = 0.1732\n",
      "After round 5, clean_test_loss = 2.0287, clean_test_acc = 0.1822\n",
      "After round 5, backdoor_test_loss = 1.7663, backdoor_test_acc = 0.9395\n",
      "Start Round 6 ...\n",
      "client_0: Loss = 1.9728, Accuracy = 0.5099\n",
      "client_1: Loss = 1.9753, Accuracy = 0.5089\n",
      "client_2: Loss = 1.9704, Accuracy = 0.5586\n",
      "client_3: Loss = 1.9726, Accuracy = 0.5205\n",
      "client_4: Loss = 1.9779, Accuracy = 0.5111\n",
      "client_5: Loss = 1.9709, Accuracy = 0.5328\n",
      "client_6: Loss = 1.9734, Accuracy = 0.5117\n",
      "client_7: Loss = 1.9748, Accuracy = 0.5231\n",
      "client_8: Loss = 1.9798, Accuracy = 0.5145\n",
      "client_4: Loss = 0.3307, Accuracy = 0.9956\n",
      "After round 6, train_loss = 1.9381, train_acc = 0.2814, test_loss = 1.9303, test_acc = 0.2868\n",
      "After round 6, clean_test_loss = 1.9248, clean_test_acc = 0.2914\n",
      "After round 6, backdoor_test_loss = 1.6719, backdoor_test_acc = 0.8189\n",
      "Start Round 7 ...\n",
      "client_0: Loss = 1.8355, Accuracy = 0.5753\n",
      "client_1: Loss = 1.8358, Accuracy = 0.5482\n",
      "client_2: Loss = 1.8287, Accuracy = 0.5943\n",
      "client_3: Loss = 1.8349, Accuracy = 0.583\n",
      "client_4: Loss = 1.841, Accuracy = 0.5659\n",
      "client_5: Loss = 1.8337, Accuracy = 0.5808\n",
      "client_6: Loss = 1.8287, Accuracy = 0.5805\n",
      "client_7: Loss = 1.8357, Accuracy = 0.5997\n",
      "client_8: Loss = 1.8335, Accuracy = 0.5878\n",
      "client_4: Loss = 0.2516, Accuracy = 0.9908\n",
      "After round 7, train_loss = 1.7802, train_acc = 0.3178, test_loss = 1.7688, test_acc = 0.3204\n",
      "After round 7, clean_test_loss = 1.762, clean_test_acc = 0.3259\n",
      "After round 7, backdoor_test_loss = 1.5106, backdoor_test_acc = 0.779\n",
      "Start Round 8 ...\n",
      "client_0: Loss = 1.6215, Accuracy = 0.6203\n",
      "client_1: Loss = 1.6262, Accuracy = 0.6031\n",
      "client_2: Loss = 1.6198, Accuracy = 0.626\n",
      "client_3: Loss = 1.618, Accuracy = 0.6194\n",
      "client_4: Loss = 1.6304, Accuracy = 0.6132\n",
      "client_5: Loss = 1.6206, Accuracy = 0.6289\n",
      "client_6: Loss = 1.6173, Accuracy = 0.6252\n",
      "client_7: Loss = 1.6221, Accuracy = 0.6271\n",
      "client_8: Loss = 1.6228, Accuracy = 0.6223\n",
      "client_4: Loss = 0.8046, Accuracy = 0.8863\n",
      "After round 8, train_loss = 2.0923, train_acc = 0.3844, test_loss = 2.0876, test_acc = 0.3923\n",
      "After round 8, clean_test_loss = 2.0878, clean_test_acc = 0.3971\n",
      "After round 8, backdoor_test_loss = 2.1013, backdoor_test_acc = 0.4387\n",
      "Start Round 9 ...\n",
      "client_0: Loss = 1.9851, Accuracy = 0.5082\n",
      "client_1: Loss = 1.9858, Accuracy = 0.4916\n",
      "client_2: Loss = 1.9853, Accuracy = 0.5002\n",
      "client_3: Loss = 1.9888, Accuracy = 0.5197\n",
      "client_4: Loss = 1.988, Accuracy = 0.5031\n",
      "client_5: Loss = 1.9874, Accuracy = 0.5488\n",
      "client_6: Loss = 1.989, Accuracy = 0.5325\n",
      "client_7: Loss = 1.9878, Accuracy = 0.5203\n",
      "client_8: Loss = 1.9846, Accuracy = 0.5185\n",
      "client_4: Loss = 0.509, Accuracy = 0.9563\n",
      "After round 9, train_loss = 1.8915, train_acc = 0.3149, test_loss = 1.8833, test_acc = 0.3158\n",
      "After round 9, clean_test_loss = 1.8795, clean_test_acc = 0.3209\n",
      "After round 9, backdoor_test_loss = 1.6834, backdoor_test_acc = 0.7795\n",
      "Start Round 10 ...\n",
      "client_0: Loss = 1.7452, Accuracy = 0.5637\n",
      "client_1: Loss = 1.7465, Accuracy = 0.5627\n",
      "client_2: Loss = 1.7407, Accuracy = 0.5606\n",
      "client_3: Loss = 1.7443, Accuracy = 0.5695\n",
      "client_4: Loss = 1.7447, Accuracy = 0.5437\n",
      "client_5: Loss = 1.7483, Accuracy = 0.5789\n",
      "client_6: Loss = 1.7494, Accuracy = 0.5609\n",
      "client_7: Loss = 1.7506, Accuracy = 0.5662\n",
      "client_8: Loss = 1.7422, Accuracy = 0.5702\n",
      "client_4: Loss = 0.2646, Accuracy = 0.9828\n",
      "After round 10, train_loss = 1.6512, train_acc = 0.3861, test_loss = 1.6382, test_acc = 0.3926\n",
      "After round 10, clean_test_loss = 1.6333, clean_test_acc = 0.397\n",
      "After round 10, backdoor_test_loss = 1.5039, backdoor_test_acc = 0.6845\n",
      "Start Round 11 ...\n",
      "client_0: Loss = 1.4674, Accuracy = 0.6117\n",
      "client_1: Loss = 1.4681, Accuracy = 0.6251\n",
      "client_2: Loss = 1.4551, Accuracy = 0.6364\n",
      "client_3: Loss = 1.4628, Accuracy = 0.6443\n",
      "client_4: Loss = 1.4642, Accuracy = 0.6213\n",
      "client_5: Loss = 1.4594, Accuracy = 0.6356\n",
      "client_6: Loss = 1.4608, Accuracy = 0.6327\n",
      "client_7: Loss = 1.4714, Accuracy = 0.6263\n",
      "client_8: Loss = 1.4579, Accuracy = 0.634\n",
      "client_4: Loss = 0.1719, Accuracy = 0.9747\n",
      "After round 11, train_loss = 1.3878, train_acc = 0.5013, test_loss = 1.3694, test_acc = 0.508\n",
      "After round 11, clean_test_loss = 1.364, clean_test_acc = 0.5098\n",
      "After round 11, backdoor_test_loss = 1.4744, backdoor_test_acc = 0.544\n",
      "Start Round 12 ...\n",
      "client_0: Loss = 1.1979, Accuracy = 0.6902\n",
      "client_1: Loss = 1.2073, Accuracy = 0.69\n",
      "client_2: Loss = 1.1971, Accuracy = 0.6817\n",
      "client_3: Loss = 1.1958, Accuracy = 0.6915\n",
      "client_4: Loss = 1.2082, Accuracy = 0.68\n",
      "client_5: Loss = 1.1866, Accuracy = 0.7022\n",
      "client_6: Loss = 1.194, Accuracy = 0.6932\n",
      "client_7: Loss = 1.1947, Accuracy = 0.7072\n",
      "client_8: Loss = 1.193, Accuracy = 0.6945\n",
      "client_4: Loss = 0.1311, Accuracy = 0.9678\n",
      "After round 12, train_loss = 1.2041, train_acc = 0.544, test_loss = 1.1849, test_acc = 0.5511\n",
      "After round 12, clean_test_loss = 1.178, clean_test_acc = 0.5539\n",
      "After round 12, backdoor_test_loss = 1.433, backdoor_test_acc = 0.505\n",
      "Start Round 13 ...\n",
      "client_0: Loss = 1.0046, Accuracy = 0.7321\n",
      "client_1: Loss = 1.0082, Accuracy = 0.7355\n",
      "client_2: Loss = 0.9968, Accuracy = 0.7276\n",
      "client_3: Loss = 0.9955, Accuracy = 0.7357\n",
      "client_4: Loss = 1.01, Accuracy = 0.7175\n",
      "client_5: Loss = 0.9898, Accuracy = 0.7428\n",
      "client_6: Loss = 0.9945, Accuracy = 0.7277\n",
      "client_7: Loss = 1.0011, Accuracy = 0.7328\n",
      "client_8: Loss = 0.9914, Accuracy = 0.7264\n",
      "client_4: Loss = 0.1079, Accuracy = 0.9671\n",
      "After round 13, train_loss = 1.0667, train_acc = 0.5908, test_loss = 1.0472, test_acc = 0.5978\n",
      "After round 13, clean_test_loss = 1.0392, clean_test_acc = 0.6026\n",
      "After round 13, backdoor_test_loss = 1.5268, backdoor_test_acc = 0.4523\n",
      "Start Round 14 ...\n",
      "client_0: Loss = 0.8665, Accuracy = 0.7544\n",
      "client_1: Loss = 0.8785, Accuracy = 0.7542\n",
      "client_2: Loss = 0.8541, Accuracy = 0.7601\n",
      "client_3: Loss = 0.8556, Accuracy = 0.7625\n",
      "client_4: Loss = 0.8737, Accuracy = 0.746\n",
      "client_5: Loss = 0.8507, Accuracy = 0.7668\n",
      "client_6: Loss = 0.8617, Accuracy = 0.7535\n",
      "client_7: Loss = 0.8696, Accuracy = 0.7517\n",
      "client_8: Loss = 0.8417, Accuracy = 0.7698\n",
      "client_4: Loss = 0.1012, Accuracy = 0.9685\n",
      "After round 14, train_loss = 0.9404, train_acc = 0.6549, test_loss = 0.92, test_acc = 0.6589\n",
      "After round 14, clean_test_loss = 0.9115, clean_test_acc = 0.6597\n",
      "After round 14, backdoor_test_loss = 1.7649, backdoor_test_acc = 0.3811\n",
      "Start Round 15 ...\n",
      "client_0: Loss = 0.7703, Accuracy = 0.7808\n",
      "client_1: Loss = 0.774, Accuracy = 0.7845\n",
      "client_2: Loss = 0.7542, Accuracy = 0.7854\n",
      "client_3: Loss = 0.763, Accuracy = 0.7845\n",
      "client_4: Loss = 0.7856, Accuracy = 0.7716\n",
      "client_5: Loss = 0.7475, Accuracy = 0.7977\n",
      "client_6: Loss = 0.7603, Accuracy = 0.7858\n",
      "client_7: Loss = 0.7681, Accuracy = 0.7748\n",
      "client_8: Loss = 0.7534, Accuracy = 0.7863\n",
      "client_4: Loss = 0.1073, Accuracy = 0.9628\n",
      "After round 15, train_loss = 0.8986, train_acc = 0.6622, test_loss = 0.8783, test_acc = 0.6648\n",
      "After round 15, clean_test_loss = 0.8682, clean_test_acc = 0.6652\n",
      "After round 15, backdoor_test_loss = 1.8263, backdoor_test_acc = 0.3723\n"
     ]
    }
   ],
   "source": [
    "poisoned_global_net = to_device(FederatedNet(), device)\n",
    "history = []\n",
    "for i in range(rounds):\n",
    "    print('Start Round {} ...'.format(i + 1))\n",
    "    curr_parameters = poisoned_global_net.get_parameters()\n",
    "    new_parameters = dict([(layer_name, {'weight': 0, 'bias': 0}) for layer_name in curr_parameters])\n",
    "    for idx, client in enumerate(clients):\n",
    "        client_parameters = client.train(curr_parameters)\n",
    "        fraction = client.get_dataset_size() / total_train_size\n",
    "        for layer_name in client_parameters:\n",
    "            new_parameters[layer_name]['weight'] += fraction * client_parameters[layer_name]['weight']\n",
    "            new_parameters[layer_name]['bias'] += fraction * client_parameters[layer_name]['bias']\n",
    "\n",
    "        if idx == num_clients -1:\n",
    "            client_target_param = client_parameters\n",
    "\n",
    "    poisoned_global_net.apply_parameters(new_parameters)\n",
    "\n",
    "    train_loss, train_acc = poisoned_global_net.evaluate(train_dataset)\n",
    "    clean_test_loss, clean_test_acc = poisoned_global_net.evaluate(clean_test_dataset)\n",
    "    backdoor_test_loss, backdoor_test_acc = poisoned_global_net.evaluate(backdoor_test_dataset)\n",
    "    test_loss, test_acc = poisoned_global_net.evaluate(test_dataset)\n",
    "    print('After round {}, train_loss = {}, train_acc = {}, test_loss = {}, test_acc = {}'.format(i + 1, round(train_loss, 4),\n",
    "            round(train_acc,4), round(test_loss, 4), round(test_acc, 4)))\n",
    "    print('After round {}, clean_test_loss = {}, clean_test_acc = {}'.format(i + 1, round(clean_test_loss, 4), round(clean_test_acc, 4)))\n",
    "    print('After round {}, backdoor_test_loss = {}, backdoor_test_acc = {}'.format(i + 1, round(backdoor_test_loss, 4), round(backdoor_test_acc, 4)))\n",
    "    \n",
    "\n",
    "    history.append((train_loss, test_loss))"
   ]
  },
  {
   "cell_type": "markdown",
   "metadata": {
    "id": "fbGAKi804hxy"
   },
   "source": [
    "Backdoor Accuracy"
   ]
  },
  {
   "cell_type": "code",
   "execution_count": 34,
   "metadata": {
    "id": "_F3tGoKg4BEz"
   },
   "outputs": [
    {
     "name": "stdout",
     "output_type": "stream",
     "text": [
      "Backdoor Accuracy: 0.37229856848716736\n"
     ]
    }
   ],
   "source": [
    "_, acc = poisoned_global_net.evaluate(backdoor_test_dataset)\n",
    "print(\"Backdoor Accuracy:\", acc)"
   ]
  },
  {
   "cell_type": "markdown",
   "metadata": {
    "id": "7OVcml-u7I2O"
   },
   "source": [
    "# RETRAIN (NOT YET REVISED)"
   ]
  },
  {
   "cell_type": "markdown",
   "metadata": {
    "id": "YRqYOwlaXl6D"
   },
   "source": [
    "#Implementing Retrain\n",
    "\n",
    "Excluding the target client\n",
    "\n",
    "We considered the last client as a target client"
   ]
  },
  {
   "cell_type": "code",
   "execution_count": 35,
   "metadata": {
    "id": "ETVAB-vdXl_B"
   },
   "outputs": [],
   "source": [
    "# @title\n",
    "examples_per_client = total_train_size // num_clients\n",
    "client_datasets = random_split(train_dataset, [min(i + examples_per_client,\n",
    "           total_train_size) - i for i in range(0, total_train_size, examples_per_client)])\n",
    "\n",
    "####################################\n",
    "# We should add the backdoor triggers on the last client dataset\n",
    "# client_datasets[-1] = ...\n",
    "\n",
    "####################################\n",
    "\n",
    "clients = [Client('client_' + str(i), client_datasets[i]) for i in range(num_clients - 1)]"
   ]
  },
  {
   "cell_type": "code",
   "execution_count": 36,
   "metadata": {},
   "outputs": [
    {
     "data": {
      "text/plain": [
       "9"
      ]
     },
     "execution_count": 36,
     "metadata": {},
     "output_type": "execute_result"
    },
    {
     "data": {
      "image/png": "[encoded data removed]",
      "text/plain": [
       "<Figure size 200x200 with 1 Axes>"
      ]
     },
     "metadata": {},
     "output_type": "display_data"
    }
   ],
   "source": [
    "plt.imshow(backdoor_test_dataset[0][0].squeeze())\n",
    "backdoor_test_dataset[0][1]"
   ]
  },
  {
   "cell_type": "code",
   "execution_count": 37,
   "metadata": {
    "tags": []
   },
   "outputs": [
    {
     "data": {
      "text/plain": [
       "1"
      ]
     },
     "execution_count": 37,
     "metadata": {},
     "output_type": "execute_result"
    },
    {
     "data": {
      "image/png": "[encoded data removed]",
      "text/plain": [
       "<Figure size 200x200 with 1 Axes>"
      ]
     },
     "metadata": {},
     "output_type": "display_data"
    }
   ],
   "source": [
    "plt.imshow(clean_test_dataset[35][0].squeeze())\n",
    "clean_test_dataset[35][1]"
   ]
  },
  {
   "cell_type": "code",
   "execution_count": 38,
   "metadata": {
    "id": "3RKLlad3-lgw",
    "tags": []
   },
   "outputs": [
    {
     "name": "stdout",
     "output_type": "stream",
     "text": [
      "Start Round 1 ...\n",
      "client_0: Loss = nan, Accuracy = 0.0\n",
      "client_1: Loss = nan, Accuracy = 0.0\n",
      "client_2: Loss = nan, Accuracy = 0.0\n",
      "client_3: Loss = nan, Accuracy = 0.0\n",
      "client_4: Loss = nan, Accuracy = 0.0\n",
      "client_5: Loss = nan, Accuracy = 0.0\n",
      "client_6: Loss = nan, Accuracy = 0.0\n",
      "client_7: Loss = nan, Accuracy = 0.0\n",
      "client_8: Loss = nan, Accuracy = 0.0\n",
      "After round 1, train_loss = nan, train_acc = 0.0\n",
      "After round 1, test_loss = nan, test_acc = 0.0\n",
      "After round 1, clean_test_loss = nan, clean_test_acc = 0.0\n",
      "After round 1, backdoor_test_loss = nan, backdoor_test_acc = 0.0\n",
      "Start Round 2 ...\n",
      "client_0: Loss = nan, Accuracy = 0.0\n",
      "client_1: Loss = nan, Accuracy = 0.0\n",
      "client_2: Loss = nan, Accuracy = 0.0\n",
      "client_3: Loss = nan, Accuracy = 0.0\n",
      "client_4: Loss = nan, Accuracy = 0.0\n",
      "client_5: Loss = nan, Accuracy = 0.0\n",
      "client_6: Loss = nan, Accuracy = 0.0\n",
      "client_7: Loss = nan, Accuracy = 0.0\n",
      "client_8: Loss = nan, Accuracy = 0.0\n",
      "After round 2, train_loss = nan, train_acc = 0.0\n",
      "After round 2, test_loss = nan, test_acc = 0.0\n",
      "After round 2, clean_test_loss = nan, clean_test_acc = 0.0\n",
      "After round 2, backdoor_test_loss = nan, backdoor_test_acc = 0.0\n",
      "Start Round 3 ...\n",
      "client_0: Loss = nan, Accuracy = 0.0\n",
      "client_1: Loss = nan, Accuracy = 0.0\n",
      "client_2: Loss = nan, Accuracy = 0.0\n",
      "client_3: Loss = nan, Accuracy = 0.0\n",
      "client_4: Loss = nan, Accuracy = 0.0\n",
      "client_5: Loss = nan, Accuracy = 0.0\n",
      "client_6: Loss = nan, Accuracy = 0.0\n",
      "client_7: Loss = nan, Accuracy = 0.0\n",
      "client_8: Loss = nan, Accuracy = 0.0\n",
      "After round 3, train_loss = nan, train_acc = 0.0\n",
      "After round 3, test_loss = nan, test_acc = 0.0\n",
      "After round 3, clean_test_loss = nan, clean_test_acc = 0.0\n",
      "After round 3, backdoor_test_loss = nan, backdoor_test_acc = 0.0\n",
      "Start Round 4 ...\n",
      "client_0: Loss = nan, Accuracy = 0.0\n",
      "client_1: Loss = nan, Accuracy = 0.0\n",
      "client_2: Loss = nan, Accuracy = 0.0\n",
      "client_3: Loss = nan, Accuracy = 0.0\n",
      "client_4: Loss = nan, Accuracy = 0.0\n",
      "client_5: Loss = nan, Accuracy = 0.0\n",
      "client_6: Loss = nan, Accuracy = 0.0\n",
      "client_7: Loss = nan, Accuracy = 0.0\n",
      "client_8: Loss = nan, Accuracy = 0.0\n",
      "After round 4, train_loss = nan, train_acc = 0.0\n",
      "After round 4, test_loss = nan, test_acc = 0.0\n",
      "After round 4, clean_test_loss = nan, clean_test_acc = 0.0\n",
      "After round 4, backdoor_test_loss = nan, backdoor_test_acc = 0.0\n",
      "Start Round 5 ...\n",
      "client_0: Loss = nan, Accuracy = 0.0\n",
      "client_1: Loss = nan, Accuracy = 0.0\n",
      "client_2: Loss = nan, Accuracy = 0.0\n",
      "client_3: Loss = nan, Accuracy = 0.0\n",
      "client_4: Loss = nan, Accuracy = 0.0\n",
      "client_5: Loss = nan, Accuracy = 0.0\n",
      "client_6: Loss = nan, Accuracy = 0.0\n",
      "client_7: Loss = nan, Accuracy = 0.0\n",
      "client_8: Loss = nan, Accuracy = 0.0\n",
      "After round 5, train_loss = nan, train_acc = 0.0\n",
      "After round 5, test_loss = nan, test_acc = 0.0\n",
      "After round 5, clean_test_loss = nan, clean_test_acc = 0.0\n",
      "After round 5, backdoor_test_loss = nan, backdoor_test_acc = 0.0\n",
      "Start Round 6 ...\n",
      "client_0: Loss = nan, Accuracy = 0.0\n",
      "client_1: Loss = nan, Accuracy = 0.0\n",
      "client_2: Loss = nan, Accuracy = 0.0\n",
      "client_3: Loss = nan, Accuracy = 0.0\n",
      "client_4: Loss = nan, Accuracy = 0.0\n",
      "client_5: Loss = nan, Accuracy = 0.0\n",
      "client_6: Loss = nan, Accuracy = 0.0\n",
      "client_7: Loss = nan, Accuracy = 0.0\n",
      "client_8: Loss = nan, Accuracy = 0.0\n",
      "After round 6, train_loss = nan, train_acc = 0.0\n",
      "After round 6, test_loss = nan, test_acc = 0.0\n",
      "After round 6, clean_test_loss = nan, clean_test_acc = 0.0\n",
      "After round 6, backdoor_test_loss = nan, backdoor_test_acc = 0.0\n",
      "Start Round 7 ...\n",
      "client_0: Loss = nan, Accuracy = 0.0\n",
      "client_1: Loss = nan, Accuracy = 0.0\n",
      "client_2: Loss = nan, Accuracy = 0.0\n",
      "client_3: Loss = nan, Accuracy = 0.0\n",
      "client_4: Loss = nan, Accuracy = 0.0\n",
      "client_5: Loss = nan, Accuracy = 0.0\n",
      "client_6: Loss = nan, Accuracy = 0.0\n",
      "client_7: Loss = nan, Accuracy = 0.0\n",
      "client_8: Loss = nan, Accuracy = 0.0\n",
      "After round 7, train_loss = nan, train_acc = 0.0\n",
      "After round 7, test_loss = nan, test_acc = 0.0\n",
      "After round 7, clean_test_loss = nan, clean_test_acc = 0.0\n",
      "After round 7, backdoor_test_loss = nan, backdoor_test_acc = 0.0\n",
      "Start Round 8 ...\n",
      "client_0: Loss = nan, Accuracy = 0.0\n",
      "client_1: Loss = nan, Accuracy = 0.0\n",
      "client_2: Loss = nan, Accuracy = 0.0\n",
      "client_3: Loss = nan, Accuracy = 0.0\n",
      "client_4: Loss = nan, Accuracy = 0.0\n",
      "client_5: Loss = nan, Accuracy = 0.0\n",
      "client_6: Loss = nan, Accuracy = 0.0\n",
      "client_7: Loss = nan, Accuracy = 0.0\n",
      "client_8: Loss = nan, Accuracy = 0.0\n",
      "After round 8, train_loss = nan, train_acc = 0.0\n",
      "After round 8, test_loss = nan, test_acc = 0.0\n",
      "After round 8, clean_test_loss = nan, clean_test_acc = 0.0\n",
      "After round 8, backdoor_test_loss = nan, backdoor_test_acc = 0.0\n",
      "Start Round 9 ...\n",
      "client_0: Loss = nan, Accuracy = 0.0\n",
      "client_1: Loss = nan, Accuracy = 0.0\n",
      "client_2: Loss = nan, Accuracy = 0.0\n",
      "client_3: Loss = nan, Accuracy = 0.0\n",
      "client_4: Loss = nan, Accuracy = 0.0\n",
      "client_5: Loss = nan, Accuracy = 0.0\n",
      "client_6: Loss = nan, Accuracy = 0.0\n",
      "client_7: Loss = nan, Accuracy = 0.0\n",
      "client_8: Loss = nan, Accuracy = 0.0\n",
      "After round 9, train_loss = nan, train_acc = 0.0\n",
      "After round 9, test_loss = nan, test_acc = 0.0\n",
      "After round 9, clean_test_loss = nan, clean_test_acc = 0.0\n",
      "After round 9, backdoor_test_loss = nan, backdoor_test_acc = 0.0\n",
      "Start Round 10 ...\n",
      "client_0: Loss = nan, Accuracy = 0.0\n",
      "client_1: Loss = nan, Accuracy = 0.0\n",
      "client_2: Loss = nan, Accuracy = 0.0\n",
      "client_3: Loss = nan, Accuracy = 0.0\n",
      "client_4: Loss = nan, Accuracy = 0.0\n",
      "client_5: Loss = nan, Accuracy = 0.0\n",
      "client_6: Loss = nan, Accuracy = 0.0\n",
      "client_7: Loss = nan, Accuracy = 0.0\n",
      "client_8: Loss = nan, Accuracy = 0.0\n",
      "After round 10, train_loss = nan, train_acc = 0.0\n",
      "After round 10, test_loss = nan, test_acc = 0.0\n",
      "After round 10, clean_test_loss = nan, clean_test_acc = 0.0\n",
      "After round 10, backdoor_test_loss = nan, backdoor_test_acc = 0.0\n",
      "Start Round 11 ...\n",
      "client_0: Loss = nan, Accuracy = 0.0\n",
      "client_1: Loss = nan, Accuracy = 0.0\n",
      "client_2: Loss = nan, Accuracy = 0.0\n",
      "client_3: Loss = nan, Accuracy = 0.0\n",
      "client_4: Loss = nan, Accuracy = 0.0\n",
      "client_5: Loss = nan, Accuracy = 0.0\n",
      "client_6: Loss = nan, Accuracy = 0.0\n",
      "client_7: Loss = nan, Accuracy = 0.0\n",
      "client_8: Loss = nan, Accuracy = 0.0\n",
      "After round 11, train_loss = nan, train_acc = 0.0\n",
      "After round 11, test_loss = nan, test_acc = 0.0\n",
      "After round 11, clean_test_loss = nan, clean_test_acc = 0.0\n",
      "After round 11, backdoor_test_loss = nan, backdoor_test_acc = 0.0\n",
      "Start Round 12 ...\n",
      "client_0: Loss = nan, Accuracy = 0.0\n",
      "client_1: Loss = nan, Accuracy = 0.0\n",
      "client_2: Loss = nan, Accuracy = 0.0\n",
      "client_3: Loss = nan, Accuracy = 0.0\n",
      "client_4: Loss = nan, Accuracy = 0.0\n",
      "client_5: Loss = nan, Accuracy = 0.0\n",
      "client_6: Loss = nan, Accuracy = 0.0\n",
      "client_7: Loss = nan, Accuracy = 0.0\n",
      "client_8: Loss = nan, Accuracy = 0.0\n",
      "After round 12, train_loss = nan, train_acc = 0.0\n",
      "After round 12, test_loss = nan, test_acc = 0.0\n",
      "After round 12, clean_test_loss = nan, clean_test_acc = 0.0\n",
      "After round 12, backdoor_test_loss = nan, backdoor_test_acc = 0.0\n",
      "Start Round 13 ...\n",
      "client_0: Loss = nan, Accuracy = 0.0\n",
      "client_1: Loss = nan, Accuracy = 0.0\n",
      "client_2: Loss = nan, Accuracy = 0.0\n",
      "client_3: Loss = nan, Accuracy = 0.0\n",
      "client_4: Loss = nan, Accuracy = 0.0\n",
      "client_5: Loss = nan, Accuracy = 0.0\n",
      "client_6: Loss = nan, Accuracy = 0.0\n",
      "client_7: Loss = nan, Accuracy = 0.0\n",
      "client_8: Loss = nan, Accuracy = 0.0\n",
      "After round 13, train_loss = nan, train_acc = 0.0\n",
      "After round 13, test_loss = nan, test_acc = 0.0\n",
      "After round 13, clean_test_loss = nan, clean_test_acc = 0.0\n",
      "After round 13, backdoor_test_loss = nan, backdoor_test_acc = 0.0\n",
      "Start Round 14 ...\n",
      "client_0: Loss = nan, Accuracy = 0.0\n",
      "client_1: Loss = nan, Accuracy = 0.0\n",
      "client_2: Loss = nan, Accuracy = 0.0\n",
      "client_3: Loss = nan, Accuracy = 0.0\n",
      "client_4: Loss = nan, Accuracy = 0.0\n",
      "client_5: Loss = nan, Accuracy = 0.0\n",
      "client_6: Loss = nan, Accuracy = 0.0\n",
      "client_7: Loss = nan, Accuracy = 0.0\n",
      "client_8: Loss = nan, Accuracy = 0.0\n",
      "After round 14, train_loss = nan, train_acc = 0.0\n",
      "After round 14, test_loss = nan, test_acc = 0.0\n",
      "After round 14, clean_test_loss = nan, clean_test_acc = 0.0\n",
      "After round 14, backdoor_test_loss = nan, backdoor_test_acc = 0.0\n",
      "Start Round 15 ...\n",
      "client_0: Loss = nan, Accuracy = 0.0\n",
      "client_1: Loss = nan, Accuracy = 0.0\n",
      "client_2: Loss = nan, Accuracy = 0.0\n",
      "client_3: Loss = nan, Accuracy = 0.0\n",
      "client_4: Loss = nan, Accuracy = 0.0\n",
      "client_5: Loss = nan, Accuracy = 0.0\n",
      "client_6: Loss = nan, Accuracy = 0.0\n",
      "client_7: Loss = nan, Accuracy = 0.0\n",
      "client_8: Loss = nan, Accuracy = 0.0\n",
      "After round 15, train_loss = nan, train_acc = 0.0\n",
      "After round 15, test_loss = nan, test_acc = 0.0\n",
      "After round 15, clean_test_loss = nan, clean_test_acc = 0.0\n",
      "After round 15, backdoor_test_loss = nan, backdoor_test_acc = 0.0\n"
     ]
    }
   ],
   "source": [
    "retrained_net = to_device(FederatedNet(), device)\n",
    "history = []\n",
    "for i in range(rounds):\n",
    "    print('Start Round {} ...'.format(i + 1))\n",
    "    curr_parameters = retrained_net.get_parameters()\n",
    "    new_parameters = dict([(layer_name, {'weight': 0, 'bias': 0}) for layer_name in curr_parameters])\n",
    "    for client in clients:\n",
    "        client_parameters = client.train(curr_parameters)\n",
    "        fraction = client.get_dataset_size() / total_train_size\n",
    "        for layer_name in client_parameters:\n",
    "            new_parameters[layer_name]['weight'] += fraction * client_parameters[layer_name]['weight']\n",
    "            new_parameters[layer_name]['bias'] += fraction * client_parameters[layer_name]['bias']\n",
    "    retrained_net.apply_parameters(new_parameters)\n",
    "\n",
    "    train_loss, train_acc = retrained_net.evaluate(train_dataset)\n",
    "    test_loss, test_acc = retrained_net.evaluate(test_dataset)\n",
    "    clean_test_loss, clean_test_acc = retrained_net.evaluate(clean_test_dataset)\n",
    "    backdoor_test_loss, backdoor_test_acc = retrained_net.evaluate(backdoor_test_dataset)\n",
    "    print('After round {}, train_loss = {}, train_acc = {}'.format(i + 1, round(train_loss, 4), round(train_acc,4)))\n",
    "    print('After round {}, test_loss = {}, test_acc = {}'.format(i + 1, round(train_loss, 4), round(train_acc,4), round(test_loss, 4), round(test_acc, 4)))\n",
    "    print('After round {}, clean_test_loss = {}, clean_test_acc = {}'.format(i + 1, round(clean_test_loss, 4), round(clean_test_acc, 4)))\n",
    "    print('After round {}, backdoor_test_loss = {}, backdoor_test_acc = {}'.format(i + 1, round(backdoor_test_loss, 4), round(backdoor_test_acc, 4)))\n",
    "\n",
    "    history.append((train_loss, test_loss))"
   ]
  },
  {
   "cell_type": "code",
   "execution_count": 39,
   "metadata": {
    "tags": []
   },
   "outputs": [
    {
     "data": {
      "text/plain": [
       "(0.0, 0.0, 0.0)"
      ]
     },
     "execution_count": 39,
     "metadata": {},
     "output_type": "execute_result"
    }
   ],
   "source": [
    "test_loss, test_acc = retrained_net.evaluate(test_dataset)\n",
    "clean_test_loss, clean_test_acc = retrained_net.evaluate(clean_test_dataset)\n",
    "backdoor_test_loss, backdoor_test_acc = retrained_net.evaluate(backdoor_test_dataset)\n",
    "test_acc, clean_test_acc, backdoor_test_acc"
   ]
  },
  {
   "cell_type": "code",
   "execution_count": null,
   "metadata": {
    "tags": []
   },
   "outputs": [],
   "source": []
  },
  {
   "cell_type": "code",
   "execution_count": 40,
   "metadata": {
    "tags": []
   },
   "outputs": [
    {
     "ename": "IndexError",
     "evalue": "boolean index did not match indexed array along dimension 0; dimension is 7214 but corresponding boolean dimension is 9018",
     "output_type": "error",
     "traceback": [
      "\u001b[0;31m---------------------------------------------------------------------------\u001b[0m",
      "\u001b[0;31mIndexError\u001b[0m                                Traceback (most recent call last)",
      "Cell \u001b[0;32mIn[40], line 1\u001b[0m\n\u001b[0;32m----> 1\u001b[0m clean_x_test \u001b[38;5;241m=\u001b[39m \u001b[43mx_test\u001b[49m\u001b[43m[\u001b[49m\u001b[43mis_poison_test\u001b[49m\u001b[43m \u001b[49m\u001b[38;5;241;43m==\u001b[39;49m\u001b[43m \u001b[49m\u001b[38;5;241;43m0\u001b[39;49m\u001b[43m]\u001b[49m\n\u001b[1;32m      2\u001b[0m clean_y_test \u001b[38;5;241m=\u001b[39m y_test[is_poison_test \u001b[38;5;241m==\u001b[39m \u001b[38;5;241m0\u001b[39m]\n\u001b[1;32m      4\u001b[0m np\u001b[38;5;241m.\u001b[39margmax(global_net(clean_x_test), axis\u001b[38;5;241m=\u001b[39m\u001b[38;5;241m1\u001b[39m)\n",
      "\u001b[0;31mIndexError\u001b[0m: boolean index did not match indexed array along dimension 0; dimension is 7214 but corresponding boolean dimension is 9018"
     ]
    }
   ],
   "source": [
    "clean_x_test = x_test[is_poison_test == 0]\n",
    "clean_y_test = y_test[is_poison_test == 0]\n",
    "\n",
    "np.argmax(global_net(clean_x_test), axis=1)"
   ]
  },
  {
   "cell_type": "code",
   "execution_count": null,
   "metadata": {
    "tags": []
   },
   "outputs": [],
   "source": [
    "clean_x_test = x_test[is_poison_test == 0]\n",
    "clean_y_test = y_test[is_poison_test == 0]\n",
    "\n",
    "clean_preds = np.argmax(classifier.predict(clean_x_test), axis=1)\n",
    "clean_correct = np.sum(clean_preds == np.argmax(clean_y_test, axis=1))\n",
    "clean_total = clean_y_test.shape[0]\n",
    "\n",
    "clean_acc = clean_correct / clean_total\n",
    "print(\"\\nClean test set accuracy: %.2f%%\" % (clean_acc * 100))\n",
    "\n",
    "# Display image, label, and prediction for a clean sample to show how the poisoned model classifies a clean sample\n",
    "\n",
    "c = 0 # class to display\n",
    "i = 0 # image of the class to display\n",
    "\n",
    "c_idx = np.where(np.argmax(clean_y_test,1) == c)[0][i] # index of the image in clean arrays\n",
    "\n",
    "plt.imshow(clean_x_test[c_idx].squeeze())\n",
    "plt.show()\n",
    "clean_label = c\n",
    "print(\"Prediction: \" + str(clean_preds[c_idx]))\n"
   ]
  },
  {
   "cell_type": "code",
   "execution_count": null,
   "metadata": {
    "tags": []
   },
   "outputs": [],
   "source": [
    "poison_x_test = x_test[is_poison_test]\n",
    "poison_y_test = y_test[is_poison_test]\n",
    "\n",
    "poison_preds = np.argmax(classifier.predict(poison_x_test), axis=1)\n",
    "poison_correct = np.sum(poison_preds == np.argmax(poison_y_test, axis=1))\n",
    "poison_total = poison_y_test.shape[0]\n",
    "\n",
    "# Display image, label, and prediction for a poisoned image to see the backdoor working\n",
    "\n",
    "c = 1 # class to display\n",
    "i = 0 # image of the class to display\n",
    "\n",
    "c_idx = np.where(np.argmax(poison_y_test,1) == c)[0][i] # index of the image in poison arrays\n",
    "\n",
    "plt.imshow(poison_x_test[c_idx].squeeze())\n",
    "plt.show()\n",
    "poison_label = c\n",
    "print(\"Prediction: \" + str(poison_preds[c_idx]))\n",
    "\n",
    "poison_acc = poison_correct / poison_total\n",
    "print(\"\\n Effectiveness of poison: %.2f%%\" % (poison_acc * 100))\n"
   ]
  },
  {
   "cell_type": "markdown",
   "metadata": {
    "id": "8VjLXdV3CCdB",
    "tags": []
   },
   "source": [
    "# Implementing the Unlearning Algorithm"
   ]
  },
  {
   "cell_type": "markdown",
   "metadata": {
    "id": "dHN8kHoWf440"
   },
   "source": [
    "Calculating W_ref"
   ]
  },
  {
   "cell_type": "code",
   "execution_count": null,
   "metadata": {
    "id": "J9W2b-nWCC4q",
    "tags": []
   },
   "outputs": [],
   "source": [
    "w = poisoned_global_net.get_parameters()\n",
    "w_target = client_target_param\n",
    "net_target_client = to_device(FederatedNet(), device)\n",
    "net_target_client.apply_parameters(w_target)\n",
    "\n",
    "w_ref = dict([(layer_name, {'weight': 0, 'bias': 0}) for layer_name in client_target_param])\n",
    "for layer_name in w:\n",
    "    w_ref[layer_name]['weight'] = (1 / (num_clients - 1)) * (num_clients * w[layer_name]['weight'] - w_target[layer_name]['weight'])\n",
    "    w_ref[layer_name]['bias'] = (1 / (num_clients - 1)) * (num_clients * w[layer_name]['bias'] - w_target[layer_name]['bias'])"
   ]
  },
  {
   "cell_type": "markdown",
   "metadata": {
    "id": "bnx6xd4DgHuP"
   },
   "source": [
    "Setting Hyperparameters"
   ]
  },
  {
   "cell_type": "code",
   "execution_count": null,
   "metadata": {
    "id": "-2fFGpNUroKj",
    "tags": []
   },
   "outputs": [],
   "source": [
    "beta_u = 0.9\n",
    "lr_u = 0.01\n",
    "batch_size_u = 1024\n",
    "epochs_u = 10\n",
    "tau_early_stopping = 10"
   ]
  },
  {
   "cell_type": "markdown",
   "metadata": {
    "id": "XAIShuU5gNon"
   },
   "source": [
    "Defining the target dataset and unlearning model (net_u) and reference model (net_ref)"
   ]
  },
  {
   "cell_type": "code",
   "execution_count": null,
   "metadata": {
    "id": "W5kk63Xeu9TN",
    "tags": []
   },
   "outputs": [],
   "source": [
    "\n",
    "net_u = to_device(FederatedNet(), device)\n",
    "net_u.apply_parameters(w_ref)\n",
    "\n",
    "net_ref = to_device(FederatedNet(), device)\n",
    "net_ref.apply_parameters(w_ref)"
   ]
  },
  {
   "cell_type": "markdown",
   "metadata": {
    "id": "zMn-_r0MsSMY"
   },
   "source": [
    "Calculating delta\n",
    "\n",
    "l2-norm ball radius, delta, is set to be one third of the average Euclidean distance between wref and a random model, where\n",
    "the average is computed over 10 random models."
   ]
  },
  {
   "cell_type": "code",
   "execution_count": null,
   "metadata": {
    "id": "buaMeKa1seOd",
    "tags": []
   },
   "outputs": [],
   "source": [
    "def calculate_diff(parameters, ref_model):\n",
    "    l2_norms = []\n",
    "    for param, ref_param in zip(parameters, ref_model.parameters()):\n",
    "        diff = param.data - ref_param.data\n",
    "        l2_norms.append(torch.norm(diff).item())\n",
    "\n",
    "    l2_norms = np.array(l2_norms)\n",
    "    return np.mean(l2_norms)\n"
   ]
  },
  {
   "cell_type": "code",
   "execution_count": null,
   "metadata": {
    "id": "r9XJEgTNsHcl",
    "tags": []
   },
   "outputs": [],
   "source": [
    "diffs = 0\n",
    "for i in range(10):\n",
    "    new_random_model = to_device(FederatedNet(), device)\n",
    "    diffs += calculate_diff(new_random_model.parameters(), net_ref)\n",
    "\n",
    "delta = (1/30) * (diffs / 10)\n",
    "print(\"Delta: \", delta)"
   ]
  },
  {
   "cell_type": "markdown",
   "metadata": {
    "id": "TfzeH7fhgqM2"
   },
   "source": [
    "Using this to implement gradient ascent"
   ]
  },
  {
   "cell_type": "code",
   "execution_count": null,
   "metadata": {
    "id": "_P-AmPRBbdd8",
    "tags": []
   },
   "outputs": [],
   "source": [
    "def objective_function(model, x, label):\n",
    "    output = model.forward(x)\n",
    "    loss = torch.nn.functional.cross_entropy(output, label)\n",
    "    return -loss"
   ]
  },
  {
   "cell_type": "markdown",
   "metadata": {
    "id": "dLDZ-o30g8wB"
   },
   "source": [
    "Implementing optimization constraint (projection)"
   ]
  },
  {
   "cell_type": "code",
   "execution_count": null,
   "metadata": {
    "id": "nyjCnCNooJZL",
    "tags": []
   },
   "outputs": [],
   "source": [
    "class L2Constraint:\n",
    "    def __init__(self, ref_model, delta):\n",
    "        self.ref_model = ref_model\n",
    "        self.delta = delta\n",
    "\n",
    "    def project(self, parameters):\n",
    "        for param, ref_param in zip(parameters, self.ref_model.parameters()):\n",
    "            diff = param.data - ref_param.data\n",
    "            l2_norm = torch.norm(diff)\n",
    "        if l2_norm > self.delta:\n",
    "            param.data = ref_param.data + (diff / l2_norm) * self.delta\n",
    "\n"
   ]
  },
  {
   "cell_type": "markdown",
   "metadata": {
    "id": "9RAejKSphUUn"
   },
   "source": [
    "Early stopping"
   ]
  },
  {
   "cell_type": "code",
   "execution_count": null,
   "metadata": {
    "id": "JYSUPObmxMb9",
    "tags": []
   },
   "outputs": [],
   "source": [
    "def Early_stopping(tau, parameters, net_target_client):\n",
    "    l2_norms = []\n",
    "    for param, ref_param in zip(parameters, net_target_client.parameters()):\n",
    "        diff = param.data - ref_param.data\n",
    "        l2_norms.append(torch.norm(diff).item())\n",
    "\n",
    "    l2_norms = np.array(l2_norms)\n",
    "\n",
    "    if np.mean(l2_norms) < tau:\n",
    "        return True\n",
    "    else:\n",
    "        return False\n"
   ]
  },
  {
   "cell_type": "code",
   "execution_count": null,
   "metadata": {
    "id": "tdOvRzRvhg--",
    "tags": []
   },
   "outputs": [],
   "source": [
    "D_i = clients[-1].get_dataset()\n",
    "\n",
    "dataloader = DeviceDataLoader(DataLoader(D_i, batch_size_u, shuffle=True), device)\n",
    "optimizer = torch.optim.SGD(net_u.parameters(), lr_u, momentum=beta_u)\n",
    "# optimizer = torch.optim.Adam(net_u.parameters(), lr_u, betas=(beta_u, 0.999))\n",
    "constraint = L2Constraint(net_ref, delta)"
   ]
  },
  {
   "cell_type": "code",
   "execution_count": null,
   "metadata": {
    "id": "iDujS_n0CDBY",
    "tags": []
   },
   "outputs": [],
   "source": [
    "return_to_server = False\n",
    "history = []\n",
    "\n",
    "for epoch in range(epochs_u):\n",
    "    if return_to_server:\n",
    "        break\n",
    "\n",
    "    losses = []\n",
    "    for batch in dataloader:\n",
    "        images, labels = batch\n",
    "        optimizer.zero_grad()\n",
    "        loss = objective_function(net_u, images, labels)\n",
    "        loss.backward()\n",
    "\n",
    "        # Apply gradient clipping\n",
    "        torch.nn.utils.clip_grad_norm_(net_u.parameters(), max_norm=5)\n",
    "\n",
    "        optimizer.step()\n",
    "\n",
    "        # Apply the constraint\n",
    "        constraint.project(net_u.parameters())\n",
    "\n",
    "        # Early stopping\n",
    "        # if Early_stopping(tau_early_stopping, net_u.parameters(), net_target_client):\n",
    "        #     return_to_server = True\n",
    "        #     break\n",
    "        loss.detach()\n",
    "        losses.append(-loss)\n",
    "    avg_loss = torch.stack(losses).mean().item()\n",
    "    history.append(avg_loss)\n",
    "\n",
    "\n"
   ]
  },
  {
   "cell_type": "code",
   "execution_count": null,
   "metadata": {
    "id": "UedmJK7NA_o5",
    "tags": []
   },
   "outputs": [],
   "source": [
    "print(\"History of loss:\")\n",
    "history"
   ]
  },
  {
   "cell_type": "markdown",
   "metadata": {
    "id": "TlecUeee4zfy"
   },
   "source": [
    "Clean Accuracy"
   ]
  },
  {
   "cell_type": "code",
   "execution_count": null,
   "metadata": {
    "id": "b_s4nkv04yLS",
    "tags": []
   },
   "outputs": [],
   "source": [
    "_, acc = net_u.evaluate(clean_test_dataset)\n",
    "print(\"Clean Accuracy:\", acc)"
   ]
  },
  {
   "cell_type": "markdown",
   "metadata": {
    "id": "16Zy8MHB4oXy"
   },
   "source": [
    "Backdoor Accuracy"
   ]
  },
  {
   "cell_type": "code",
   "execution_count": null,
   "metadata": {
    "id": "ZtpzQqyedV9N",
    "tags": []
   },
   "outputs": [],
   "source": [
    "# _, acc = net_u.evaluate(clients[-1].get_dataset())\n",
    "_, acc = net_u.evaluate(backdoor_test_dataset)\n",
    "print(\"Backdoor Accuracy:\", acc)"
   ]
  },
  {
   "cell_type": "markdown",
   "metadata": {
    "id": "v-WLV1aP4skn"
   },
   "source": [
    "# FL post training"
   ]
  },
  {
   "cell_type": "code",
   "execution_count": null,
   "metadata": {
    "id": "Ps6zso_mdlBU"
   },
   "outputs": [],
   "source": [
    "global_net_post_training = to_device(FederatedNet(), device)\n",
    "global_net_post_training.apply_parameters(net_u.get_parameters())"
   ]
  },
  {
   "cell_type": "code",
   "execution_count": null,
   "metadata": {
    "id": "VjHeeUCG5Mhs"
   },
   "outputs": [],
   "source": [
    "\n",
    "history = []\n",
    "for i in range(5):\n",
    "    print('Start Round {} ...'.format(i + 1))\n",
    "    curr_parameters = global_net_post_training.get_parameters()\n",
    "    new_parameters = dict([(layer_name, {'weight': 0, 'bias': 0}) for layer_name in curr_parameters])\n",
    "    for idx, client in enumerate(clients):\n",
    "        if idx != num_clients -1:\n",
    "          client_parameters = client.train(curr_parameters)\n",
    "          fraction = client.get_dataset_size() / (total_train_size - clients[-1].get_dataset_size())\n",
    "          for layer_name in client_parameters:\n",
    "              new_parameters[layer_name]['weight'] += fraction * client_parameters[layer_name]['weight']\n",
    "              new_parameters[layer_name]['bias'] += fraction * client_parameters[layer_name]['bias']\n",
    "\n",
    "    global_net_post_training.apply_parameters(new_parameters)\n",
    "\n",
    "    train_loss, train_acc = global_net_post_training.evaluate(train_dataset)\n",
    "    test_loss, test_acc = global_net_post_training.evaluate(test_dataset)\n",
    "    print('After round {}, train_loss = {}, train_acc = {}, test_loss = {}, test_acc = {}\\n'.format(i + 1, round(train_loss, 4),\n",
    "            round(train_acc,4), round(test_loss, 4), round(test_acc, 4)))\n",
    "    print('After round {}, test_loss = {}, test_acc = {}\\n'.format(i + 1, round(test_loss, 4), round(test_acc, 4)))\n",
    "\n",
    "    history.append((train_loss, test_loss))"
   ]
  },
  {
   "cell_type": "code",
   "execution_count": null,
   "metadata": {
    "id": "H08Kr-jNenh7"
   },
   "outputs": [],
   "source": [
    "# _, acc = global_net_post_training.evaluate(clients[-1].get_dataset())\n",
    "# print(\"Backdoor Accuracy:\", acc)\n",
    "\n",
    "# _, acc = global_net_post_training.evaluate(train_dataset)\n",
    "# print(\"Clean Accuracy:\", acc)"
   ]
  },
  {
   "cell_type": "code",
   "execution_count": null,
   "metadata": {
    "id": "2cvyAucCkoet",
    "tags": []
   },
   "outputs": [],
   "source": [
    "_, acc = global_net_post_training.evaluate(clean_test_dataset)\n",
    "print(\"Clean Accuracy:\", acc)\n",
    "\n",
    "_, acc = global_net_post_training.evaluate(backdoor_test_dataset)\n",
    "print(\"Backdoor Accuracy:\", acc)"
   ]
  },
  {
   "cell_type": "code",
   "execution_count": null,
   "metadata": {},
   "outputs": [],
   "source": []
  }
 ],
 "metadata": {
  "accelerator": "GPU",
  "colab": {
   "collapsed_sections": [
    "9msOIi9xBd56",
    "wrFgSn7GBqh0",
    "9XnrSfe9G5_K",
    "vV77bJkbHPfH",
    "ot7dFEYqJEpV",
    "Msl1b2fuU79O",
    "NG9CuTNGXluK",
    "I6CIOLfC7I2J",
    "mYaCYw_e7I2L",
    "YRqYOwlaXl6D"
   ],
   "gpuType": "T4",
   "provenance": []
  },
  "kernelspec": {
   "display_name": "Python 3 (ipykernel)",
   "language": "python",
   "name": "python3"
  },
  "language_info": {
   "codemirror_mode": {
    "name": "ipython",
    "version": 3
   },
   "file_extension": ".py",
   "mimetype": "text/x-python",
   "name": "python",
   "nbconvert_exporter": "python",
   "pygments_lexer": "ipython3",
   "version": "3.10.12"
  }
 },
 "nbformat": 4,
 "nbformat_minor": 4
}
