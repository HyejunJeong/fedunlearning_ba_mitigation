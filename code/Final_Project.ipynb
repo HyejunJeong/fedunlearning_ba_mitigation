{
 "cells": [
  {
   "cell_type": "markdown",
   "metadata": {
    "id": "9msOIi9xBd56"
   },
   "source": [
    "# Importing Libraries"
   ]
  },
  {
   "cell_type": "code",
   "execution_count": 1,
   "metadata": {
    "id": "Af35sRw7AFWm",
    "tags": []
   },
   "outputs": [
    {
     "name": "stderr",
     "output_type": "stream",
     "text": [
      "/Applications/anaconda3/envs/compsci682/lib/python3.10/site-packages/scipy/__init__.py:146: UserWarning: A NumPy version >=1.16.5 and <1.23.0 is required for this version of SciPy (detected version 1.26.0\n",
      "  warnings.warn(f\"A NumPy version >={np_minversion} and <{np_maxversion}\"\n"
     ]
    }
   ],
   "source": [
    "import torch\n",
    "import numpy as np\n",
    "from torchvision.datasets import MNIST\n",
    "from torch.utils.data import random_split, DataLoader\n",
    "import torchvision.transforms as transforms\n",
    "from torch import nn\n",
    "import torch.nn.functional as F\n",
    "import torch.optim as optim\n",
    "import matplotlib.pyplot as plt\n",
    "import warnings\n",
    "\n",
    "from art.estimators.classification import PyTorchClassifier\n",
    "\n",
    "warnings.filterwarnings('ignore')\n"
   ]
  },
  {
   "cell_type": "code",
   "execution_count": 2,
   "metadata": {
    "id": "esSSn0D692Eg",
    "tags": []
   },
   "outputs": [],
   "source": [
    "torch.manual_seed(0)\n",
    "np.random.seed(0)"
   ]
  },
  {
   "cell_type": "code",
   "execution_count": 3,
   "metadata": {
    "id": "24FYUn3kHK7q",
    "tags": []
   },
   "outputs": [],
   "source": [
    "%matplotlib inline\n",
    "plt.rcParams['figure.figsize'] = [2, 2]"
   ]
  },
  {
   "cell_type": "code",
   "execution_count": 4,
   "metadata": {
    "colab": {
     "base_uri": "https://localhost:8080/"
    },
    "id": "eNGGX2-pqvBN",
    "outputId": "8ca043a1-db3e-4bdd-88b8-4be310ca9e7e",
    "tags": []
   },
   "outputs": [
    {
     "name": "stdout",
     "output_type": "stream",
     "text": [
      "Requirement already satisfied: adversarial-robustness-toolbox in /Applications/anaconda3/envs/compsci682/lib/python3.10/site-packages (1.16.0)\n",
      "Requirement already satisfied: numpy>=1.18.0 in /Applications/anaconda3/envs/compsci682/lib/python3.10/site-packages (from adversarial-robustness-toolbox) (1.22.4)\n",
      "Requirement already satisfied: scipy>=1.4.1 in /Applications/anaconda3/envs/compsci682/lib/python3.10/site-packages (from adversarial-robustness-toolbox) (1.7.3)\n",
      "Requirement already satisfied: scikit-learn<1.2.0,>=0.22.2 in /Applications/anaconda3/envs/compsci682/lib/python3.10/site-packages (from adversarial-robustness-toolbox) (1.1.3)\n",
      "Requirement already satisfied: six in /Applications/anaconda3/envs/compsci682/lib/python3.10/site-packages (from adversarial-robustness-toolbox) (1.16.0)\n",
      "Requirement already satisfied: setuptools in /Applications/anaconda3/envs/compsci682/lib/python3.10/site-packages (from adversarial-robustness-toolbox) (68.0.0)\n",
      "Requirement already satisfied: tqdm in /Applications/anaconda3/envs/compsci682/lib/python3.10/site-packages (from adversarial-robustness-toolbox) (4.66.1)\n",
      "Requirement already satisfied: joblib>=1.0.0 in /Applications/anaconda3/envs/compsci682/lib/python3.10/site-packages (from scikit-learn<1.2.0,>=0.22.2->adversarial-robustness-toolbox) (1.2.0)\n",
      "Requirement already satisfied: threadpoolctl>=2.0.0 in /Applications/anaconda3/envs/compsci682/lib/python3.10/site-packages (from scikit-learn<1.2.0,>=0.22.2->adversarial-robustness-toolbox) (2.2.0)\n",
      "\u001b[33mWARNING: There was an error checking the latest version of pip.\u001b[0m\u001b[33m\n",
      "\u001b[0m"
     ]
    }
   ],
   "source": [
    "!pip install adversarial-robustness-toolbox"
   ]
  },
  {
   "cell_type": "markdown",
   "metadata": {
    "id": "wrFgSn7GBqh0"
   },
   "source": [
    "# Loading MNIST dataset"
   ]
  },
  {
   "cell_type": "markdown",
   "metadata": {},
   "source": [
    "### Change the directory storing data!"
   ]
  },
  {
   "cell_type": "code",
   "execution_count": 5,
   "metadata": {
    "tags": []
   },
   "outputs": [],
   "source": [
    "train_dataset = MNIST('data', train=True, download=True, transform=transforms.ToTensor())\n",
    "test_dataset = MNIST('data', train=False, download=True, transform=transforms.ToTensor())"
   ]
  },
  {
   "cell_type": "markdown",
   "metadata": {
    "id": "1enRQBnIHo9d"
   },
   "source": [
    "Size of a single data"
   ]
  },
  {
   "cell_type": "code",
   "execution_count": 6,
   "metadata": {
    "colab": {
     "base_uri": "https://localhost:8080/"
    },
    "id": "caMMBuc_HwB9",
    "outputId": "fb83ab63-f43c-4613-aa7b-0d360c66aad4",
    "tags": []
   },
   "outputs": [
    {
     "data": {
      "text/plain": [
       "torch.Size([1, 28, 28])"
      ]
     },
     "execution_count": 6,
     "metadata": {},
     "output_type": "execute_result"
    }
   ],
   "source": [
    "train_dataset[1000][0].size()"
   ]
  },
  {
   "cell_type": "markdown",
   "metadata": {
    "id": "2MQzGJLWJUQ5"
   },
   "source": [
    "Class related to this data"
   ]
  },
  {
   "cell_type": "code",
   "execution_count": 7,
   "metadata": {
    "colab": {
     "base_uri": "https://localhost:8080/"
    },
    "id": "IM2U7X2XHzTh",
    "outputId": "a77dea79-c18b-4312-b67b-632f6d0dbdcc",
    "tags": []
   },
   "outputs": [
    {
     "data": {
      "text/plain": [
       "0"
      ]
     },
     "execution_count": 7,
     "metadata": {},
     "output_type": "execute_result"
    }
   ],
   "source": [
    "train_dataset[1000][1]"
   ]
  },
  {
   "cell_type": "markdown",
   "metadata": {
    "id": "eDqQX_acJZe3"
   },
   "source": [
    "Visualize this data"
   ]
  },
  {
   "cell_type": "code",
   "execution_count": 8,
   "metadata": {
    "id": "Wm7jP_ggHh5b",
    "tags": []
   },
   "outputs": [
    {
     "data": {
      "text/plain": [
       "<matplotlib.image.AxesImage at 0x172ce0220>"
      ]
     },
     "execution_count": 8,
     "metadata": {},
     "output_type": "execute_result"
    },
    {
     "data": {
      "image/png": "[encoded data removed]",
      "text/plain": [
       "<Figure size 200x200 with 1 Axes>"
      ]
     },
     "metadata": {},
     "output_type": "display_data"
    }
   ],
   "source": [
    "plt.imshow(train_dataset[1000][0].permute(1, 2, 0))"
   ]
  },
  {
   "cell_type": "markdown",
   "metadata": {
    "id": "9XnrSfe9G5_K"
   },
   "source": [
    "# Setting Hyperparameters"
   ]
  },
  {
   "cell_type": "code",
   "execution_count": 9,
   "metadata": {
    "id": "-W21PBwvEIIS",
    "tags": []
   },
   "outputs": [],
   "source": [
    "total_train_size = len(train_dataset)\n",
    "total_test_size = len(test_dataset)\n",
    "#total_dev_size = len(dev_dataset)\n",
    "\n",
    "classes = 10\n",
    "input_dim = 28 * 28\n",
    "\n",
    "num_clients = 10 # (N = 5)\n",
    "rounds = 5\n",
    "batch_size = 128\n",
    "epochs_per_client = 1\n",
    "learning_rate = 0.01\n",
    "beta = 0.9 # Momentum"
   ]
  },
  {
   "cell_type": "code",
   "execution_count": 10,
   "metadata": {
    "colab": {
     "base_uri": "https://localhost:8080/"
    },
    "id": "FNvtJcpTEUV-",
    "outputId": "136a8f74-409f-4f6f-d17e-ad6f235294fa",
    "tags": []
   },
   "outputs": [
    {
     "data": {
      "text/plain": [
       "(60000, 10000)"
      ]
     },
     "execution_count": 10,
     "metadata": {},
     "output_type": "execute_result"
    }
   ],
   "source": [
    "total_train_size,total_test_size#, total_dev_size"
   ]
  },
  {
   "cell_type": "markdown",
   "metadata": {
    "id": "vV77bJkbHPfH"
   },
   "source": [
    "# GPU Support"
   ]
  },
  {
   "cell_type": "code",
   "execution_count": 11,
   "metadata": {
    "id": "Zb1DvQR7En1S",
    "tags": []
   },
   "outputs": [],
   "source": [
    "def get_device():\n",
    "    if torch.backends.mps.is_available():\n",
    "        device = torch.device(\"mps\")\n",
    "    elif torch.cuda.is_available():\n",
    "        device = torch.device('cuda')\n",
    "    else:\n",
    "        device = torch.device('cpu')\n",
    "    return device\n",
    "    # return torch.device('cuda') if torch.cuda.is_available() else torch.device('cpu')\n",
    "\n",
    "def to_device(data, device):\n",
    "    if isinstance(data, (list, tuple)):\n",
    "        return [to_device(x, device) for x in data]\n",
    "    return data.to(device, non_blocking=True)\n",
    "\n",
    "class DeviceDataLoader(DataLoader):\n",
    "        def __init__(self, dl, device):\n",
    "            self.dl = dl\n",
    "            self.device = device\n",
    "\n",
    "        def __iter__(self):\n",
    "            for batch in self.dl:\n",
    "                yield to_device(batch, self.device)\n",
    "\n",
    "        def __len__(self):\n",
    "            return len(self.dl)\n",
    "\n",
    "device = get_device()"
   ]
  },
  {
   "cell_type": "code",
   "execution_count": 12,
   "metadata": {
    "tags": []
   },
   "outputs": [
    {
     "data": {
      "text/plain": [
       "device(type='mps')"
      ]
     },
     "execution_count": 12,
     "metadata": {},
     "output_type": "execute_result"
    }
   ],
   "source": [
    "device"
   ]
  },
  {
   "cell_type": "markdown",
   "metadata": {
    "id": "ot7dFEYqJEpV"
   },
   "source": [
    "# Network"
   ]
  },
  {
   "cell_type": "markdown",
   "metadata": {
    "id": "ROluBrSmPFhg"
   },
   "source": [
    "Define Network Architecture and Usefull functions"
   ]
  },
  {
   "cell_type": "code",
   "execution_count": 13,
   "metadata": {
    "id": "X7k32X8PPPAb",
    "tags": []
   },
   "outputs": [],
   "source": [
    "class FederatedNet(torch.nn.Module):\n",
    "    def __init__(self, num_channels=1, num_classes=10):\n",
    "        super().__init__()\n",
    "        self.conv1 = nn.Conv2d(num_channels, 32, kernel_size=5)\n",
    "        self.conv2 = nn.Conv2d(32, 64, kernel_size=5)\n",
    "        self.fc1 = nn.Linear(1024, 512)\n",
    "        self.fc2 = nn.Linear(512, num_classes)\n",
    "\n",
    "        self.track_layers = {'conv1': self.conv1, 'conv2': self.conv2, 'fc1': self.fc1, 'fc2': self.fc2}\n",
    "\n",
    "    def forward(self, x):\n",
    "        x = F.relu(F.max_pool2d(self.conv1(x), kernel_size=2))\n",
    "        x = F.relu(F.max_pool2d(self.conv2(x), kernel_size=2))\n",
    "        x = x.view(-1, x.shape[1]*x.shape[2]*x.shape[3])\n",
    "        x = F.relu(self.fc1(x))\n",
    "        x = self.fc2(x)\n",
    "        return F.log_softmax(x, dim=1)\n",
    "\n",
    "    def get_track_layers(self):\n",
    "        return self.track_layers\n",
    "\n",
    "    def apply_parameters(self, parameters_dict):\n",
    "        with torch.no_grad():\n",
    "            for layer_name in parameters_dict:\n",
    "                self.track_layers[layer_name].weight.data *= 0\n",
    "                self.track_layers[layer_name].bias.data *= 0\n",
    "                self.track_layers[layer_name].weight.data += parameters_dict[layer_name]['weight']\n",
    "                self.track_layers[layer_name].bias.data += parameters_dict[layer_name]['bias']\n",
    "\n",
    "    def get_parameters(self):\n",
    "        parameters_dict = dict()\n",
    "        for layer_name in self.track_layers:\n",
    "            parameters_dict[layer_name] = {\n",
    "                'weight': self.track_layers[layer_name].weight.data,\n",
    "                'bias': self.track_layers[layer_name].bias.data\n",
    "            }\n",
    "        return parameters_dict\n",
    "\n",
    "    def batch_accuracy(self, outputs, labels):\n",
    "        with torch.no_grad():\n",
    "            _, predictions = torch.max(outputs, dim=1)\n",
    "            return torch.tensor(torch.sum(predictions == labels).item() / len(predictions))\n",
    "\n",
    "    def predict(self, dataset, batch_size=128):\n",
    "        dataloader = DeviceDataLoader(DataLoader(dataset, batch_size), device)\n",
    "        preds = []\n",
    "        with torch.no_grad():\n",
    "            for batch in dataloader:\n",
    "                images, labels = batch\n",
    "                outputs = self(images)\n",
    "                print(outputs)\n",
    "                preds.append(outputs)\n",
    "        return preds\n",
    "    \n",
    "    \n",
    "    def _process_batch(self, batch):\n",
    "        images, labels = batch\n",
    "        # print(batch)\n",
    "        outputs = self(images)\n",
    "        loss = torch.nn.functional.cross_entropy(outputs, labels)\n",
    "        accuracy = self.batch_accuracy(outputs, labels)\n",
    "        return (loss, accuracy)\n",
    "\n",
    "    def fit(self, dataset, epochs, lr, batch_size=128, opt=torch.optim.SGD):\n",
    "        dataloader = DeviceDataLoader(DataLoader(dataset, batch_size, shuffle=True), device)\n",
    "        optimizer = opt(self.parameters(), lr, momentum=beta)\n",
    "        history = []\n",
    "        for epoch in range(epochs):\n",
    "            losses = []\n",
    "            accs = []\n",
    "            for batch in dataloader:\n",
    "                loss, acc = self._process_batch(batch)\n",
    "                loss.backward()\n",
    "                optimizer.step()\n",
    "                optimizer.zero_grad()\n",
    "                loss.detach()\n",
    "                losses.append(loss)\n",
    "                accs.append(acc)\n",
    "            avg_loss = torch.stack(losses).mean().item()\n",
    "            avg_acc = torch.stack(accs).mean().item()\n",
    "            history.append((avg_loss, avg_acc))\n",
    "        return history\n",
    "\n",
    "    def evaluate(self, dataset, batch_size=128):\n",
    "        dataloader = DeviceDataLoader(DataLoader(dataset, batch_size), device)\n",
    "        losses = []\n",
    "        accs = []\n",
    "        with torch.no_grad():\n",
    "            for batch in dataloader:\n",
    "                loss, acc = self._process_batch(batch)\n",
    "                losses.append(loss)\n",
    "                accs.append(acc)\n",
    "        avg_loss = torch.stack(losses).mean().item()\n",
    "        avg_acc = torch.stack(accs).mean().item()\n",
    "        return (avg_loss, avg_acc)\n",
    "    "
   ]
  },
  {
   "cell_type": "markdown",
   "metadata": {
    "id": "Msl1b2fuU79O"
   },
   "source": [
    "# Client"
   ]
  },
  {
   "cell_type": "markdown",
   "metadata": {
    "id": "VOJMH3URU8jt"
   },
   "source": [
    "Defining the clinet class"
   ]
  },
  {
   "cell_type": "code",
   "execution_count": 14,
   "metadata": {
    "id": "w5RlGAnbVJeu",
    "tags": []
   },
   "outputs": [],
   "source": [
    "class Client:\n",
    "    def __init__(self, client_id, dataset):\n",
    "        self.client_id = client_id\n",
    "        self.dataset = dataset\n",
    "\n",
    "    def get_dataset_size(self):\n",
    "        return len(self.dataset)\n",
    "\n",
    "    def get_dataset(self):\n",
    "        return self.dataset\n",
    "\n",
    "    def get_client_id(self):\n",
    "        return self.client_id\n",
    "\n",
    "    def train(self, parameters_dict):\n",
    "        net = to_device(FederatedNet(), device)\n",
    "        net.apply_parameters(parameters_dict)\n",
    "        train_history = net.fit(self.dataset, epochs_per_client, learning_rate, batch_size)\n",
    "        print('{}: Loss = {}, Accuracy = {}'.format(self.client_id, round(train_history[-1][0], 4), round(train_history[-1][1], 4)))\n",
    "        return net.get_parameters()"
   ]
  },
  {
   "cell_type": "markdown",
   "metadata": {
    "id": "NG9CuTNGXluK"
   },
   "source": [
    "# Implementing FedAvg\n",
    "\n",
    "(All clients contribute equally and the target client does not use backdoor attack)\n"
   ]
  },
  {
   "cell_type": "markdown",
   "metadata": {
    "id": "_--mhvDp65mv"
   },
   "source": [
    "Client setup"
   ]
  },
  {
   "cell_type": "code",
   "execution_count": 18,
   "metadata": {
    "tags": []
   },
   "outputs": [
    {
     "data": {
      "text/plain": [
       "6000"
      ]
     },
     "execution_count": 18,
     "metadata": {},
     "output_type": "execute_result"
    }
   ],
   "source": [
    "examples_per_client"
   ]
  },
  {
   "cell_type": "code",
   "execution_count": 15,
   "metadata": {
    "id": "mpmWIc78k7cJ",
    "tags": []
   },
   "outputs": [],
   "source": [
    "examples_per_client = total_train_size // num_clients\n",
    "\n",
    "client_datasets = random_split(train_dataset, [min(i + examples_per_client,\n",
    "           total_train_size) - i for i in range(0, total_train_size, examples_per_client)])\n",
    "\n",
    "clients = [Client('client_' + str(i), client_datasets[i]) for i in range(num_clients)]"
   ]
  },
  {
   "cell_type": "code",
   "execution_count": 17,
   "metadata": {
    "tags": []
   },
   "outputs": [
    {
     "name": "stdout",
     "output_type": "stream",
     "text": [
      "Start Round 1 ...\n",
      "client_0: Loss = 4.1713, Accuracy = 0.1871\n",
      "client_1: Loss = 2.0771, Accuracy = 0.4104\n",
      "client_2: Loss = 2.0765, Accuracy = 0.3646\n",
      "client_3: Loss = 2.0794, Accuracy = 0.4036\n",
      "client_4: Loss = 2.0757, Accuracy = 0.371\n",
      "client_5: Loss = 2.0787, Accuracy = 0.404\n",
      "client_6: Loss = 2.0972, Accuracy = 0.3528\n",
      "client_7: Loss = 2.0936, Accuracy = 0.3938\n",
      "client_8: Loss = 2.086, Accuracy = 0.4084\n",
      "client_9: Loss = 2.0763, Accuracy = 0.3427\n",
      "After round 1, train_loss = 4.3963, test_loss = 4.3996, test_acc = 0.1013\n",
      "\n",
      "Start Round 2 ...\n",
      "client_0: Loss = 2.39, Accuracy = 0.1028\n",
      "client_1: Loss = 2.3912, Accuracy = 0.1047\n",
      "client_2: Loss = 2.3735, Accuracy = 0.1027\n",
      "client_3: Loss = 2.3757, Accuracy = 0.1053\n",
      "client_4: Loss = 2.4004, Accuracy = 0.1052\n",
      "client_5: Loss = 2.3913, Accuracy = 0.0994\n",
      "client_6: Loss = 2.3696, Accuracy = 0.1017\n",
      "client_7: Loss = 2.3781, Accuracy = 0.1041\n",
      "client_8: Loss = 2.3893, Accuracy = 0.1079\n",
      "client_9: Loss = 2.3753, Accuracy = 0.1069\n",
      "After round 2, train_loss = 2.31, test_loss = 2.3101, test_acc = 0.1024\n",
      "\n",
      "Start Round 3 ...\n",
      "client_0: Loss = 2.3066, Accuracy = 0.1043\n",
      "client_1: Loss = 2.3066, Accuracy = 0.1039\n",
      "client_2: Loss = 64.8867, Accuracy = 0.1039\n",
      "client_3: Loss = 2.3061, Accuracy = 0.1104\n",
      "client_4: Loss = 2.3068, Accuracy = 0.0978\n",
      "client_5: Loss = 2.3067, Accuracy = 0.0969\n",
      "client_6: Loss = 2.3079, Accuracy = 0.0964\n",
      "client_7: Loss = 2.3063, Accuracy = 0.1091\n",
      "client_8: Loss = 2.3048, Accuracy = 0.1112\n",
      "client_9: Loss = 2.3056, Accuracy = 0.1031\n",
      "After round 3, train_loss = 10.9805, test_loss = 10.9382, test_acc = 0.1034\n",
      "\n",
      "Start Round 4 ...\n",
      "client_0: Loss = 3.9408, Accuracy = 0.1023\n",
      "client_1: Loss = 4.0219, Accuracy = 0.1019\n",
      "client_2: Loss = 3.8125, Accuracy = 0.1\n",
      "client_3: Loss = 3.8373, Accuracy = 0.0953\n",
      "client_4: Loss = 3.8639, Accuracy = 0.1037\n",
      "client_5: Loss = 3.7959, Accuracy = 0.1008\n",
      "client_6: Loss = 4.183, Accuracy = 0.0912\n",
      "client_7: Loss = 3.8625, Accuracy = 0.0986\n",
      "client_8: Loss = 4.0764, Accuracy = 0.1042\n",
      "client_9: Loss = 4.1396, Accuracy = 0.0982\n"
     ]
    },
    {
     "ename": "KeyboardInterrupt",
     "evalue": "",
     "output_type": "error",
     "traceback": [
      "\u001b[0;31m---------------------------------------------------------------------------\u001b[0m",
      "\u001b[0;31mKeyboardInterrupt\u001b[0m                         Traceback (most recent call last)",
      "Cell \u001b[0;32mIn[17], line 15\u001b[0m\n\u001b[1;32m     12\u001b[0m         new_parameters[layer_name][\u001b[38;5;124m'\u001b[39m\u001b[38;5;124mbias\u001b[39m\u001b[38;5;124m'\u001b[39m] \u001b[38;5;241m+\u001b[39m\u001b[38;5;241m=\u001b[39m fraction \u001b[38;5;241m*\u001b[39m client_parameters[layer_name][\u001b[38;5;124m'\u001b[39m\u001b[38;5;124mbias\u001b[39m\u001b[38;5;124m'\u001b[39m]\n\u001b[1;32m     13\u001b[0m global_net\u001b[38;5;241m.\u001b[39mapply_parameters(new_parameters)\n\u001b[0;32m---> 15\u001b[0m train_loss, train_acc \u001b[38;5;241m=\u001b[39m \u001b[43mglobal_net\u001b[49m\u001b[38;5;241;43m.\u001b[39;49m\u001b[43mevaluate\u001b[49m\u001b[43m(\u001b[49m\u001b[43mtrain_dataset\u001b[49m\u001b[43m)\u001b[49m\n\u001b[1;32m     16\u001b[0m test_loss, test_acc \u001b[38;5;241m=\u001b[39m global_net\u001b[38;5;241m.\u001b[39mevaluate(test_dataset)\n\u001b[1;32m     17\u001b[0m \u001b[38;5;28mprint\u001b[39m(\u001b[38;5;124m'\u001b[39m\u001b[38;5;124mAfter round \u001b[39m\u001b[38;5;132;01m{}\u001b[39;00m\u001b[38;5;124m, train_loss = \u001b[39m\u001b[38;5;132;01m{}\u001b[39;00m\u001b[38;5;124m, test_loss = \u001b[39m\u001b[38;5;132;01m{}\u001b[39;00m\u001b[38;5;124m, test_acc = \u001b[39m\u001b[38;5;132;01m{}\u001b[39;00m\u001b[38;5;130;01m\\n\u001b[39;00m\u001b[38;5;124m'\u001b[39m\u001b[38;5;241m.\u001b[39mformat(i \u001b[38;5;241m+\u001b[39m \u001b[38;5;241m1\u001b[39m, \u001b[38;5;28mround\u001b[39m(train_loss, \u001b[38;5;241m4\u001b[39m),\n\u001b[1;32m     18\u001b[0m         \u001b[38;5;28mround\u001b[39m(test_loss, \u001b[38;5;241m4\u001b[39m), \u001b[38;5;28mround\u001b[39m(test_acc, \u001b[38;5;241m4\u001b[39m)))\n",
      "Cell \u001b[0;32mIn[13], line 90\u001b[0m, in \u001b[0;36mFederatedNet.evaluate\u001b[0;34m(self, dataset, batch_size)\u001b[0m\n\u001b[1;32m     88\u001b[0m \u001b[38;5;28;01mwith\u001b[39;00m torch\u001b[38;5;241m.\u001b[39mno_grad():\n\u001b[1;32m     89\u001b[0m     \u001b[38;5;28;01mfor\u001b[39;00m batch \u001b[38;5;129;01min\u001b[39;00m dataloader:\n\u001b[0;32m---> 90\u001b[0m         loss, acc \u001b[38;5;241m=\u001b[39m \u001b[38;5;28;43mself\u001b[39;49m\u001b[38;5;241;43m.\u001b[39;49m\u001b[43m_process_batch\u001b[49m\u001b[43m(\u001b[49m\u001b[43mbatch\u001b[49m\u001b[43m)\u001b[49m\n\u001b[1;32m     91\u001b[0m         losses\u001b[38;5;241m.\u001b[39mappend(loss)\n\u001b[1;32m     92\u001b[0m         accs\u001b[38;5;241m.\u001b[39mappend(acc)\n",
      "Cell \u001b[0;32mIn[13], line 61\u001b[0m, in \u001b[0;36mFederatedNet._process_batch\u001b[0;34m(self, batch)\u001b[0m\n\u001b[1;32m     59\u001b[0m outputs \u001b[38;5;241m=\u001b[39m \u001b[38;5;28mself\u001b[39m(images)\n\u001b[1;32m     60\u001b[0m loss \u001b[38;5;241m=\u001b[39m torch\u001b[38;5;241m.\u001b[39mnn\u001b[38;5;241m.\u001b[39mfunctional\u001b[38;5;241m.\u001b[39mcross_entropy(outputs, labels)\n\u001b[0;32m---> 61\u001b[0m accuracy \u001b[38;5;241m=\u001b[39m \u001b[38;5;28;43mself\u001b[39;49m\u001b[38;5;241;43m.\u001b[39;49m\u001b[43mbatch_accuracy\u001b[49m\u001b[43m(\u001b[49m\u001b[43moutputs\u001b[49m\u001b[43m,\u001b[49m\u001b[43m \u001b[49m\u001b[43mlabels\u001b[49m\u001b[43m)\u001b[49m\n\u001b[1;32m     62\u001b[0m \u001b[38;5;28;01mreturn\u001b[39;00m (loss, accuracy)\n",
      "Cell \u001b[0;32mIn[13], line 42\u001b[0m, in \u001b[0;36mFederatedNet.batch_accuracy\u001b[0;34m(self, outputs, labels)\u001b[0m\n\u001b[1;32m     40\u001b[0m \u001b[38;5;28;01mwith\u001b[39;00m torch\u001b[38;5;241m.\u001b[39mno_grad():\n\u001b[1;32m     41\u001b[0m     _, predictions \u001b[38;5;241m=\u001b[39m torch\u001b[38;5;241m.\u001b[39mmax(outputs, dim\u001b[38;5;241m=\u001b[39m\u001b[38;5;241m1\u001b[39m)\n\u001b[0;32m---> 42\u001b[0m     \u001b[38;5;28;01mreturn\u001b[39;00m torch\u001b[38;5;241m.\u001b[39mtensor(\u001b[43mtorch\u001b[49m\u001b[38;5;241;43m.\u001b[39;49m\u001b[43msum\u001b[49m\u001b[43m(\u001b[49m\u001b[43mpredictions\u001b[49m\u001b[43m \u001b[49m\u001b[38;5;241;43m==\u001b[39;49m\u001b[43m \u001b[49m\u001b[43mlabels\u001b[49m\u001b[43m)\u001b[49m\u001b[38;5;241;43m.\u001b[39;49m\u001b[43mitem\u001b[49m\u001b[43m(\u001b[49m\u001b[43m)\u001b[49m \u001b[38;5;241m/\u001b[39m \u001b[38;5;28mlen\u001b[39m(predictions))\n",
      "\u001b[0;31mKeyboardInterrupt\u001b[0m: "
     ]
    }
   ],
   "source": [
    "global_net = to_device(FederatedNet(), device)\n",
    "history = []\n",
    "for i in range(rounds):\n",
    "    print('Start Round {} ...'.format(i + 1))\n",
    "    curr_parameters = global_net.get_parameters()\n",
    "    new_parameters = dict([(layer_name, {'weight': 0, 'bias': 0}) for layer_name in curr_parameters])\n",
    "    for client in clients:\n",
    "        client_parameters = client.train(curr_parameters)\n",
    "        fraction = client.get_dataset_size() / total_train_size\n",
    "        for layer_name in client_parameters:\n",
    "            new_parameters[layer_name]['weight'] += fraction * client_parameters[layer_name]['weight']\n",
    "            new_parameters[layer_name]['bias'] += fraction * client_parameters[layer_name]['bias']\n",
    "    global_net.apply_parameters(new_parameters)\n",
    "\n",
    "    train_loss, train_acc = global_net.evaluate(train_dataset)\n",
    "    test_loss, test_acc = global_net.evaluate(test_dataset)\n",
    "    print('After round {}, train_loss = {}, test_loss = {}, test_acc = {}\\n'.format(i + 1, round(train_loss, 4),\n",
    "            round(test_loss, 4), round(test_acc, 4)))\n",
    "    history.append((train_loss, test_loss))"
   ]
  },
  {
   "cell_type": "markdown",
   "metadata": {},
   "source": [
    "## Separate data and label to add trigger (pattern)"
   ]
  },
  {
   "cell_type": "code",
   "execution_count": 17,
   "metadata": {},
   "outputs": [],
   "source": [
    "test_data = []\n",
    "test_label = []\n",
    "for i in range(len(test_dataset)):\n",
    "    test_data.extend(np.array(test_dataset[i][0]*255))\n",
    "    test_label.append(test_dataset[i][1])\n",
    "test_data = np.array(test_data)\n",
    "test_label = np.array(test_label)\n"
   ]
  },
  {
   "cell_type": "code",
   "execution_count": 18,
   "metadata": {
    "id": "l1yw079KuI46",
    "tags": []
   },
   "outputs": [],
   "source": [
    "target_client_num = len(clients)-1\n",
    "target_data = []\n",
    "target_label = []\n",
    "for i in range(clients[-1].get_dataset_size()):\n",
    "    target_data.extend(np.array(clients[-1].get_dataset()[i][0]*255))\n",
    "    target_label.append(clients[-1].get_dataset()[i][1])\n",
    "target_label = np.array(target_label)\n",
    "target_data = np.array(target_data)\n"
   ]
  },
  {
   "cell_type": "markdown",
   "metadata": {},
   "source": [
    "# Refer to the adversarial-robust-toolbox\n",
    "\n",
    "https://nbviewer.org/github/Trusted-AI/adversarial-robustness-toolbox/blob/main/notebooks/hidden_trigger_backdoor/poisoning_attack_hidden_trigger_pytorch.ipynb\n",
    "\n",
    "https://nbviewer.org/github/Trusted-AI/adversarial-robustness-toolbox/blob/main/notebooks/poisoning_defense_activation_clustering.ipynb"
   ]
  },
  {
   "cell_type": "code",
   "execution_count": 19,
   "metadata": {
    "id": "4viR2L6kNNWa"
   },
   "outputs": [],
   "source": [
    "from art.attacks.poisoning.backdoor_attack import PoisoningAttackBackdoor\n",
    "from art.attacks.poisoning.perturbations import add_pattern_bd, add_single_bd, insert_image\n",
    "from art.utils import load_mnist, preprocess\n",
    "\n",
    "BACKDOOR_TYPE = \"pattern\"\n",
    "\n",
    "max_val = np.max(target_data[0])\n",
    "\n",
    "def add_modification(x):\n",
    "    if BACKDOOR_TYPE == 'pattern':\n",
    "        return add_pattern_bd(x, pixel_value=max_val)\n",
    "    # elif BACKDOOR_TYPE == 'pixel':\n",
    "    #     return add_single_bd(x, pixel_value=max_val)\n",
    "    # elif BACKDOOR_TYPE == 'image':\n",
    "    #     return insert_image(x, backdoor_path='../utils/data/backdoors/alert.png', size=(10, 10))\n",
    "    else:\n",
    "        raise(\"Unknown backdoor type\")\n"
   ]
  },
  {
   "cell_type": "code",
   "execution_count": 20,
   "metadata": {
    "id": "89vNTgTZWJb3"
   },
   "outputs": [],
   "source": [
    "def poison_dataset(x_clean, y_clean, percent_poison, poison_func):\n",
    "    x_poison = np.copy(x_clean)\n",
    "    y_poison = np.copy(y_clean)\n",
    "    is_poison = np.zeros(np.shape(y_poison))\n",
    "\n",
    "    sources=np.arange(10) # 0, 1, 2, 3, ...\n",
    "    # targets=(np.arange(10) + 1) % 10 # 1, 2, 3, 4, ...\n",
    "    targets=np.full(10,9)\n",
    "    # print(targets)\n",
    "\n",
    "    for i, (src, tgt) in enumerate(zip(sources, targets)):\n",
    "        n_points_in_tgt = np.size(np.where(y_clean == tgt))\n",
    "        num_poison = round((percent_poison * n_points_in_tgt) / (1 - percent_poison))\n",
    "        # print(y_clean, src)\n",
    "        src_imgs = x_clean[y_clean == src]\n",
    "\n",
    "        n_points_in_src = np.shape(src_imgs)[0]\n",
    "        indices_to_be_poisoned = np.random.choice(n_points_in_src, num_poison)\n",
    "\n",
    "        imgs_to_be_poisoned = np.copy(src_imgs[indices_to_be_poisoned])\n",
    "        backdoor_attack = PoisoningAttackBackdoor(poison_func)\n",
    "        imgs_to_be_poisoned, poison_labels = backdoor_attack.poison(imgs_to_be_poisoned, y=np.ones(num_poison) * tgt)\n",
    "        x_poison = np.append(x_poison, imgs_to_be_poisoned, axis=0)\n",
    "        y_poison = np.append(y_poison, poison_labels, axis=0)\n",
    "        is_poison = np.append(is_poison, np.ones(num_poison))\n",
    "\n",
    "    is_poison = is_poison != 0\n",
    "    return is_poison, x_poison, y_poison\n"
   ]
  },
  {
   "cell_type": "code",
   "execution_count": 21,
   "metadata": {
    "colab": {
     "base_uri": "https://localhost:8080/"
    },
    "id": "uZTpBePRWW9H",
    "outputId": "444144d2-fe8e-47e8-eb73-dea470906bbf",
    "tags": []
   },
   "outputs": [],
   "source": [
    "# Poison training data\n",
    "percent_poison = 0.80\n",
    "(is_poison_train, x_poisoned_raw, y_poisoned_raw) = poison_dataset(target_data, target_label, percent_poison, add_modification)\n",
    "x_train, y_train = preprocess(x_poisoned_raw, y_poisoned_raw)\n",
    "# Add channel axis:\n",
    "x_train = np.expand_dims(x_train, axis=3)\n",
    "\n",
    "# # Poison test data\n",
    "(is_poison_test, x_poisoned_raw_test, y_poisoned_raw_test) = poison_dataset(test_data, test_label, percent_poison, add_modification)\n",
    "x_test, y_test = preprocess(x_poisoned_raw_test, y_poisoned_raw_test)\n",
    "# Add channel axis:\n",
    "x_test = np.expand_dims(x_test, axis=3)\n",
    "\n",
    "# Shuffle training data\n",
    "n_train = np.shape(y_train)[0]\n",
    "shuffled_indices = np.arange(n_train)\n",
    "np.random.shuffle(shuffled_indices)\n",
    "x_train = x_train[shuffled_indices]\n",
    "y_train = y_train[shuffled_indices]\n",
    "is_poison_train = is_poison_train[shuffled_indices]\n"
   ]
  },
  {
   "cell_type": "markdown",
   "metadata": {},
   "source": [
    "# Integrate images and labels to torch.utils.data.Dataset"
   ]
  },
  {
   "cell_type": "code",
   "execution_count": 22,
   "metadata": {
    "tags": []
   },
   "outputs": [],
   "source": [
    "target_train_dataset = []\n",
    "for i in range(len(x_train)):\n",
    "    target_train_dataset.append((torch.tensor(x_train[i]).permute(2,0,1), np.argmax(y_train[i])))\n"
   ]
  },
  {
   "cell_type": "code",
   "execution_count": 23,
   "metadata": {
    "tags": []
   },
   "outputs": [],
   "source": [
    "target_test_dataset = []\n",
    "for i in range(len(x_test)):\n",
    "    target_test_dataset.append((torch.tensor(x_test[i]).permute(2,0,1), np.argmax(y_test[i])))\n"
   ]
  },
  {
   "cell_type": "markdown",
   "metadata": {},
   "source": [
    "## poison 80% of client_9's data"
   ]
  },
  {
   "cell_type": "code",
   "execution_count": 24,
   "metadata": {
    "tags": []
   },
   "outputs": [],
   "source": [
    "clients[-1] = Client('client_' + str(target_client_num), target_train_dataset)"
   ]
  },
  {
   "cell_type": "markdown",
   "metadata": {},
   "source": [
    "## FL (client_9's data and the test dataset are 80% poisoned)"
   ]
  },
  {
   "cell_type": "code",
   "execution_count": 25,
   "metadata": {
    "tags": []
   },
   "outputs": [
    {
     "data": {
      "text/plain": [
       "<matplotlib.image.AxesImage at 0x17f8dee00>"
      ]
     },
     "execution_count": 25,
     "metadata": {},
     "output_type": "execute_result"
    },
    {
     "data": {
      "image/png": "[encoded data removed]",
      "text/plain": [
       "<Figure size 200x200 with 1 Axes>"
      ]
     },
     "metadata": {},
     "output_type": "display_data"
    }
   ],
   "source": [
    "plt.imshow(clients[-1].get_dataset()[0][0].squeeze())"
   ]
  },
  {
   "cell_type": "code",
   "execution_count": 26,
   "metadata": {
    "tags": []
   },
   "outputs": [
    {
     "name": "stdout",
     "output_type": "stream",
     "text": [
      "Start Round 1 ...\n",
      "client_0: Loss = 0.2397, Accuracy = 0.9291\n",
      "client_1: Loss = 0.24, Accuracy = 0.9282\n",
      "client_2: Loss = 0.2201, Accuracy = 0.9309\n",
      "client_3: Loss = 0.2345, Accuracy = 0.9306\n",
      "client_4: Loss = 0.223, Accuracy = 0.9332\n",
      "client_5: Loss = 0.2307, Accuracy = 0.9333\n",
      "client_6: Loss = 0.222, Accuracy = 0.9351\n",
      "client_7: Loss = 0.2339, Accuracy = 0.9275\n",
      "client_8: Loss = 0.226, Accuracy = 0.9332\n",
      "client_9: Loss = 0.6356, Accuracy = 0.8118\n",
      "After round 1, test_loss = 2.369, test_acc = 0.4429\n",
      "\n",
      "Start Round 2 ...\n",
      "client_0: Loss = 0.3524, Accuracy = 0.8978\n",
      "client_1: Loss = 0.3217, Accuracy = 0.9018\n",
      "client_2: Loss = 0.3475, Accuracy = 0.9022\n",
      "client_3: Loss = 0.3672, Accuracy = 0.8984\n",
      "client_4: Loss = 0.349, Accuracy = 0.9042\n",
      "client_5: Loss = 0.3845, Accuracy = 0.8923\n",
      "client_6: Loss = 0.3485, Accuracy = 0.8952\n",
      "client_7: Loss = 0.3622, Accuracy = 0.9007\n",
      "client_8: Loss = 0.3665, Accuracy = 0.9012\n",
      "client_9: Loss = 0.3822, Accuracy = 0.8638\n",
      "After round 2, test_loss = 0.2846, test_acc = 0.951\n",
      "\n",
      "Start Round 3 ...\n",
      "client_0: Loss = 0.2289, Accuracy = 0.9465\n",
      "client_1: Loss = 0.2174, Accuracy = 0.9437\n",
      "client_2: Loss = 0.217, Accuracy = 0.9505\n",
      "client_3: Loss = 0.2285, Accuracy = 0.9455\n",
      "client_4: Loss = 0.2382, Accuracy = 0.9463\n",
      "client_5: Loss = 0.1865, Accuracy = 0.9536\n",
      "client_6: Loss = 0.2241, Accuracy = 0.9454\n",
      "client_7: Loss = 0.2169, Accuracy = 0.9437\n",
      "client_8: Loss = 0.236, Accuracy = 0.9486\n",
      "client_9: Loss = 0.3265, Accuracy = 0.9383\n",
      "After round 3, test_loss = 0.9117, test_acc = 0.7847\n",
      "\n",
      "Start Round 4 ...\n",
      "client_0: Loss = 0.2726, Accuracy = 0.9255\n",
      "client_1: Loss = 0.2465, Accuracy = 0.9323\n",
      "client_2: Loss = 0.2421, Accuracy = 0.9342\n",
      "client_3: Loss = 0.2717, Accuracy = 0.9222\n",
      "client_4: Loss = 0.2696, Accuracy = 0.9256\n",
      "client_5: Loss = 0.2251, Accuracy = 0.9345\n",
      "client_6: Loss = 0.2498, Accuracy = 0.932\n",
      "client_7: Loss = 0.2694, Accuracy = 0.9256\n",
      "client_8: Loss = 0.2694, Accuracy = 0.9283\n",
      "client_9: Loss = 0.0685, Accuracy = 0.9799\n",
      "After round 4, test_loss = 0.2649, test_acc = 0.9615\n",
      "\n",
      "Start Round 5 ...\n",
      "client_0: Loss = 0.291, Accuracy = 0.9455\n",
      "client_1: Loss = 0.2798, Accuracy = 0.9549\n",
      "client_2: Loss = 0.2684, Accuracy = 0.9527\n",
      "client_3: Loss = 0.2922, Accuracy = 0.9496\n",
      "client_4: Loss = 0.3157, Accuracy = 0.948\n",
      "client_5: Loss = 0.267, Accuracy = 0.9527\n",
      "client_6: Loss = 0.2658, Accuracy = 0.9518\n",
      "client_7: Loss = 0.272, Accuracy = 0.949\n",
      "client_8: Loss = 0.2751, Accuracy = 0.9503\n",
      "client_9: Loss = 0.1117, Accuracy = 0.9797\n",
      "After round 5, test_loss = 0.4808, test_acc = 0.957\n",
      "\n",
      "Start Round 6 ...\n",
      "client_0: Loss = 0.6514, Accuracy = 0.9387\n",
      "client_1: Loss = 0.646, Accuracy = 0.9405\n",
      "client_2: Loss = 0.52, Accuracy = 0.9493\n",
      "client_3: Loss = 0.6067, Accuracy = 0.9409\n",
      "client_4: Loss = 0.6676, Accuracy = 0.9395\n",
      "client_5: Loss = 0.5314, Accuracy = 0.947\n",
      "client_6: Loss = 0.6224, Accuracy = 0.944\n",
      "client_7: Loss = 0.7099, Accuracy = 0.9352\n",
      "client_8: Loss = 0.6183, Accuracy = 0.9403\n",
      "client_9: Loss = 0.1401, Accuracy = 0.9865\n",
      "After round 6, test_loss = 0.8774, test_acc = 0.9684\n",
      "\n",
      "Start Round 7 ...\n",
      "client_0: Loss = 1.8866, Accuracy = 0.9315\n",
      "client_1: Loss = 1.5979, Accuracy = 0.944\n",
      "client_2: Loss = 1.4143, Accuracy = 0.9415\n",
      "client_3: Loss = 1.6867, Accuracy = 0.9408\n",
      "client_4: Loss = 3.0334, Accuracy = 0.1189\n",
      "client_5: Loss = 1.4031, Accuracy = 0.9423\n",
      "client_6: Loss = 1.4589, Accuracy = 0.9483\n",
      "client_7: Loss = 1.8523, Accuracy = 0.9347\n",
      "client_8: Loss = 1.5043, Accuracy = 0.949\n",
      "client_9: Loss = 0.3538, Accuracy = 0.9846\n",
      "After round 7, test_loss = 14.296, test_acc = 0.2716\n",
      "\n",
      "Start Round 8 ...\n",
      "client_0: Loss = 3.2529, Accuracy = 0.1272\n",
      "client_1: Loss = 3.3688, Accuracy = 0.1469\n",
      "client_2: Loss = 3.3113, Accuracy = 0.1212\n",
      "client_3: Loss = 3.316, Accuracy = 0.1188\n",
      "client_4: Loss = 3.2039, Accuracy = 0.1417\n",
      "client_5: Loss = 3.1848, Accuracy = 0.1176\n",
      "client_6: Loss = 3.3549, Accuracy = 0.1272\n",
      "client_7: Loss = 3.2436, Accuracy = 0.1329\n",
      "client_8: Loss = 3.3867, Accuracy = 0.134\n",
      "client_9: Loss = 0.6356, Accuracy = 0.8133\n",
      "After round 8, test_loss = 2.3357, test_acc = 0.1034\n",
      "\n",
      "Start Round 9 ...\n",
      "client_0: Loss = 2.3259, Accuracy = 0.0994\n",
      "client_1: Loss = 2.322, Accuracy = 0.1071\n",
      "client_2: Loss = 2.3216, Accuracy = 0.1112\n",
      "client_3: Loss = 2.3197, Accuracy = 0.1037\n",
      "client_4: Loss = 2.3239, Accuracy = 0.1043\n",
      "client_5: Loss = 2.3236, Accuracy = 0.1077\n",
      "client_6: Loss = 2.3259, Accuracy = 0.092\n",
      "client_7: Loss = 2.3162, Accuracy = 0.104\n",
      "client_8: Loss = 2.317, Accuracy = 0.1044\n",
      "client_9: Loss = 0.8521, Accuracy = 0.8117\n",
      "After round 9, test_loss = 2.5055, test_acc = 0.1005\n",
      "\n",
      "Start Round 10 ...\n",
      "client_0: Loss = 2.35, Accuracy = 0.1039\n",
      "client_1: Loss = 2.3648, Accuracy = 0.0954\n",
      "client_2: Loss = 2.3533, Accuracy = 0.0961\n",
      "client_3: Loss = 2.3477, Accuracy = 0.1012\n",
      "client_4: Loss = 2.3424, Accuracy = 0.1002\n",
      "client_5: Loss = 2.3433, Accuracy = 0.1073\n",
      "client_6: Loss = 2.3441, Accuracy = 0.0885\n",
      "client_7: Loss = 2.351, Accuracy = 0.1041\n",
      "client_8: Loss = 2.3538, Accuracy = 0.0999\n",
      "client_9: Loss = 0.8561, Accuracy = 0.8169\n",
      "After round 10, test_loss = 2.7326, test_acc = 0.1005\n",
      "\n",
      "Start Round 11 ...\n",
      "client_0: Loss = 2.4277, Accuracy = 0.0933\n",
      "client_1: Loss = 2.4361, Accuracy = 0.0969\n",
      "client_2: Loss = 2.4239, Accuracy = 0.0952\n",
      "client_3: Loss = 2.4248, Accuracy = 0.0988\n",
      "client_4: Loss = 2.439, Accuracy = 0.1084\n",
      "client_5: Loss = 2.4184, Accuracy = 0.0995\n",
      "client_6: Loss = 2.4159, Accuracy = 0.1031\n",
      "client_7: Loss = 2.403, Accuracy = 0.1043\n",
      "client_8: Loss = 2.4215, Accuracy = 0.1031\n",
      "client_9: Loss = 0.867, Accuracy = 0.817\n",
      "After round 11, test_loss = 2.8298, test_acc = 0.1005\n",
      "\n",
      "Start Round 12 ...\n",
      "client_0: Loss = 2.5253, Accuracy = 0.1045\n",
      "client_1: Loss = 2.4997, Accuracy = 0.0957\n",
      "client_2: Loss = 2.459, Accuracy = 0.1046\n",
      "client_3: Loss = 2.4959, Accuracy = 0.099\n",
      "client_4: Loss = 2.4785, Accuracy = 0.0958\n",
      "client_5: Loss = 2.4677, Accuracy = 0.1029\n",
      "client_6: Loss = 2.5541, Accuracy = 0.1007\n",
      "client_7: Loss = 2.5339, Accuracy = 0.0933\n",
      "client_8: Loss = 2.5109, Accuracy = 0.1032\n",
      "client_9: Loss = 0.8932, Accuracy = 0.817\n",
      "After round 12, test_loss = 3.1819, test_acc = 0.1005\n",
      "\n",
      "Start Round 13 ...\n",
      "client_0: Loss = 5.5991, Accuracy = 0.0953\n",
      "client_1: Loss = 4.7449, Accuracy = 0.1014\n",
      "client_2: Loss = 6.7469, Accuracy = 0.0993\n",
      "client_3: Loss = 8.6694, Accuracy = 0.0953\n",
      "client_4: Loss = 8.9686, Accuracy = 0.1042\n",
      "client_5: Loss = 6.1563, Accuracy = 0.1103\n",
      "client_6: Loss = 4.7984, Accuracy = 0.0983\n",
      "client_7: Loss = 6.4331, Accuracy = 0.1009\n",
      "client_8: Loss = 7.587, Accuracy = 0.0972\n",
      "client_9: Loss = 1.0069, Accuracy = 0.8169\n",
      "After round 13, test_loss = 6.4386, test_acc = 0.097\n",
      "\n",
      "Start Round 14 ...\n",
      "client_0: Loss = 25.3241, Accuracy = 0.1015\n",
      "client_1: Loss = 31.546, Accuracy = 0.0995\n",
      "client_2: Loss = 26.1559, Accuracy = 0.0959\n",
      "client_3: Loss = 26.971, Accuracy = 0.1052\n",
      "client_4: Loss = 29.7825, Accuracy = 0.1005\n",
      "client_5: Loss = 31.0249, Accuracy = 0.0925\n",
      "client_6: Loss = 28.7485, Accuracy = 0.1002\n",
      "client_7: Loss = 22.7593, Accuracy = 0.1046\n",
      "client_8: Loss = 27.935, Accuracy = 0.1\n",
      "client_9: Loss = 8.3445, Accuracy = 0.6811\n",
      "After round 14, test_loss = 34.7159, test_acc = 0.0976\n",
      "\n",
      "Start Round 15 ...\n",
      "client_0: Loss = 51.7966, Accuracy = 0.1006\n",
      "client_1: Loss = 77.5013, Accuracy = 0.105\n",
      "client_2: Loss = 57.1793, Accuracy = 0.1022\n",
      "client_3: Loss = 58.0976, Accuracy = 0.0967\n",
      "client_4: Loss = 64.8436, Accuracy = 0.0996\n",
      "client_5: Loss = 66.0185, Accuracy = 0.1063\n",
      "client_6: Loss = 58.5947, Accuracy = 0.103\n",
      "client_7: Loss = 54.7042, Accuracy = 0.0999\n",
      "client_8: Loss = 62.5496, Accuracy = 0.1014\n",
      "client_9: Loss = 20.4755, Accuracy = 0.6768\n",
      "After round 15, test_loss = 91.4817, test_acc = 0.1034\n",
      "\n"
     ]
    }
   ],
   "source": [
    "# global_net = to_device(FederatedNet(), device)\n",
    "history = []\n",
    "for i in range(15):\n",
    "    print('Start Round {} ...'.format(i + 1))\n",
    "    curr_parameters = global_net.get_parameters()\n",
    "    new_parameters = dict([(layer_name, {'weight': 0, 'bias': 0}) for layer_name in curr_parameters])\n",
    "    for client in clients:\n",
    "        client_parameters = client.train(curr_parameters)\n",
    "        fraction = client.get_dataset_size() / total_train_size\n",
    "        for layer_name in client_parameters:\n",
    "            new_parameters[layer_name]['weight'] += fraction * client_parameters[layer_name]['weight']\n",
    "            new_parameters[layer_name]['bias'] += fraction * client_parameters[layer_name]['bias']\n",
    "    global_net.apply_parameters(new_parameters)\n",
    "\n",
    "    # train_loss, train_acc = global_net.evaluate(train_dataset)\n",
    "    test_loss, test_acc = global_net.evaluate(test_dataset)\n",
    "    # test_loss, test_acc = global_net.evaluate(target_test_dataset)\n",
    "    # print('After round {}, train_loss = {}, train_acc = {}, test_loss = {}, test_acc = {}\\n'.format(i + 1, round(train_loss, 4),\n",
    "    #         round(train_acc,4), round(test_loss, 4), round(test_acc, 4)))\n",
    "    print('After round {}, test_loss = {}, test_acc = {}\\n'.format(i + 1, round(test_loss, 4), round(test_acc, 4)))\n",
    "\n",
    "    history.append((test_loss, test_acc))"
   ]
  },
  {
   "cell_type": "code",
   "execution_count": 27,
   "metadata": {
    "tags": []
   },
   "outputs": [
    {
     "data": {
      "text/plain": [
       "[(2.3689887523651123, 0.44293907284736633),\n",
       " (0.28456050157546997, 0.9510482549667358),\n",
       " (0.91166090965271, 0.7847112417221069),\n",
       " (0.264892041683197, 0.961530864238739),\n",
       " (0.4807725250720978, 0.9569817781448364),\n",
       " (0.8774300217628479, 0.9683544039726257),\n",
       " (14.296042442321777, 0.271558552980423),\n",
       " (2.335655450820923, 0.10344145447015762),\n",
       " (2.5055248737335205, 0.10047468543052673),\n",
       " (2.732556104660034, 0.10047468543052673),\n",
       " (2.829801559448242, 0.10047468543052673),\n",
       " (3.1818623542785645, 0.10047468543052673),\n",
       " (6.4385786056518555, 0.0970134511590004),\n",
       " (34.71588897705078, 0.09760680049657822),\n",
       " (91.48169708251953, 0.10344145447015762)]"
      ]
     },
     "execution_count": 27,
     "metadata": {},
     "output_type": "execute_result"
    }
   ],
   "source": [
    "history"
   ]
  },
  {
   "cell_type": "code",
   "execution_count": 29,
   "metadata": {
    "tags": []
   },
   "outputs": [],
   "source": [
    "history_test_acc = [x[1] for x in history ]\n",
    "# newlist = [x for x in fruits if \"a\" in x]\n"
   ]
  },
  {
   "cell_type": "code",
   "execution_count": 30,
   "metadata": {
    "tags": []
   },
   "outputs": [
    {
     "data": {
      "text/plain": [
       "[0.44293907284736633,\n",
       " 0.9510482549667358,\n",
       " 0.7847112417221069,\n",
       " 0.961530864238739,\n",
       " 0.9569817781448364,\n",
       " 0.9683544039726257,\n",
       " 0.271558552980423,\n",
       " 0.10344145447015762,\n",
       " 0.10047468543052673,\n",
       " 0.10047468543052673,\n",
       " 0.10047468543052673,\n",
       " 0.10047468543052673,\n",
       " 0.0970134511590004,\n",
       " 0.09760680049657822,\n",
       " 0.10344145447015762]"
      ]
     },
     "execution_count": 30,
     "metadata": {},
     "output_type": "execute_result"
    }
   ],
   "source": [
    "history_test_acc"
   ]
  },
  {
   "cell_type": "code",
   "execution_count": 33,
   "metadata": {
    "tags": []
   },
   "outputs": [
    {
     "data": {
      "text/plain": [
       "array([0.44293907, 0.95104825, 0.78471124, 0.96153086, 0.95698178,\n",
       "       0.9683544 , 0.27155855, 0.10344145, 0.10047469, 0.10047469,\n",
       "       0.10047469, 0.10047469, 0.09701345, 0.0976068 , 0.10344145])"
      ]
     },
     "execution_count": 33,
     "metadata": {},
     "output_type": "execute_result"
    }
   ],
   "source": [
    "y"
   ]
  },
  {
   "cell_type": "code",
   "execution_count": 34,
   "metadata": {
    "tags": []
   },
   "outputs": [
    {
     "data": {
      "text/plain": [
       "array([ 0,  1,  2,  3,  4,  5,  6,  7,  8,  9, 10, 11, 12, 13, 14])"
      ]
     },
     "execution_count": 34,
     "metadata": {},
     "output_type": "execute_result"
    }
   ],
   "source": [
    "x"
   ]
  },
  {
   "cell_type": "code",
   "execution_count": 43,
   "metadata": {
    "tags": []
   },
   "outputs": [
    {
     "data": {
      "image/png": "[encoded data removed]",
      "text/plain": [
       "<Figure size 700x500 with 1 Axes>"
      ]
     },
     "metadata": {},
     "output_type": "display_data"
    }
   ],
   "source": [
    "import matplotlib.pyplot as plt \n",
    "import numpy as np \n",
    "  \n",
    "# x = np.array([1, 2, 3, 4]) \n",
    "x = np.arange(15)\n",
    "y = np.array(history_test_acc)\n",
    "\n",
    "plt.figure(figsize=(7,5))\n",
    "\n",
    "plt.plot(x, y) \n",
    "plt.xticks(range(0, len(x)))\n",
    "\n",
    "plt.xlabel(\"epoch\")  # add X-axis label \n",
    "plt.ylabel(\"testing accuracy\")  # add Y-axis label \n",
    "plt.title(\"Global model test accuracy w. one malicious client\")  # add title \n",
    "plt.show() \n"
   ]
  },
  {
   "cell_type": "code",
   "execution_count": 35,
   "metadata": {
    "tags": []
   },
   "outputs": [
    {
     "data": {
      "text/plain": [
       "9"
      ]
     },
     "execution_count": 35,
     "metadata": {},
     "output_type": "execute_result"
    }
   ],
   "source": [
    "clients[-1].get_dataset()[0][1]"
   ]
  },
  {
   "cell_type": "code",
   "execution_count": 28,
   "metadata": {
    "tags": []
   },
   "outputs": [
    {
     "data": {
      "text/plain": [
       "9"
      ]
     },
     "execution_count": 28,
     "metadata": {},
     "output_type": "execute_result"
    }
   ],
   "source": [
    "clients[-1].get_dataset()[1][1]"
   ]
  },
  {
   "cell_type": "code",
   "execution_count": 29,
   "metadata": {
    "tags": []
   },
   "outputs": [
    {
     "data": {
      "text/plain": [
       "<matplotlib.image.AxesImage at 0x16de1ba90>"
      ]
     },
     "execution_count": 29,
     "metadata": {},
     "output_type": "execute_result"
    },
    {
     "data": {
      "image/png": "[encoded data removed]",
      "text/plain": [
       "<Figure size 200x200 with 1 Axes>"
      ]
     },
     "metadata": {},
     "output_type": "display_data"
    }
   ],
   "source": [
    "plt.imshow(clients[-1].get_dataset()[1][0].squeeze())"
   ]
  },
  {
   "cell_type": "code",
   "execution_count": 30,
   "metadata": {
    "tags": []
   },
   "outputs": [
    {
     "data": {
      "text/plain": [
       "<matplotlib.image.AxesImage at 0x33461b2b0>"
      ]
     },
     "execution_count": 30,
     "metadata": {},
     "output_type": "execute_result"
    },
    {
     "data": {
      "image/png": "[encoded data removed]",
      "text/plain": [
       "<Figure size 200x200 with 1 Axes>"
      ]
     },
     "metadata": {},
     "output_type": "display_data"
    }
   ],
   "source": [
    "plt.imshow(clients[-1].get_dataset()[0][0].squeeze())"
   ]
  },
  {
   "cell_type": "markdown",
   "metadata": {},
   "source": [
    "# RETRAIN (NOT YET REVISED)"
   ]
  },
  {
   "cell_type": "markdown",
   "metadata": {
    "id": "YRqYOwlaXl6D"
   },
   "source": [
    "#Implementing Retrain\n",
    "\n",
    "Excluding the target client\n",
    "\n",
    "We considered the last client as a target client"
   ]
  },
  {
   "cell_type": "code",
   "execution_count": 31,
   "metadata": {
    "id": "ETVAB-vdXl_B"
   },
   "outputs": [],
   "source": [
    "# # @title\n",
    "# examples_per_client = total_train_size // num_clients\n",
    "# client_datasets = random_split(train_dataset, [min(i + examples_per_client,\n",
    "#            total_train_size) - i for i in range(0, total_train_size, examples_per_client)])\n",
    "\n",
    "# ####################################\n",
    "# # We should add the backdoor triggers on the last client dataset\n",
    "# # client_datasets[-1] = ...\n",
    "\n",
    "# ####################################\n",
    "\n",
    "# clients = [Client('client_' + str(i), client_datasets[i]) for i in range(num_clients - 1)]"
   ]
  },
  {
   "cell_type": "code",
   "execution_count": 32,
   "metadata": {
    "id": "3RKLlad3-lgw"
   },
   "outputs": [],
   "source": [
    "# global_net = to_device(FederatedNet(), device)\n",
    "# history = []\n",
    "# for i in range(rounds):\n",
    "#     print('Start Round {} ...'.format(i + 1))\n",
    "#     curr_parameters = global_net.get_parameters()\n",
    "#     new_parameters = dict([(layer_name, {'weight': 0, 'bias': 0}) for layer_name in curr_parameters])\n",
    "#     for client in clients:\n",
    "#         client_parameters = client.train(curr_parameters)\n",
    "#         fraction = client.get_dataset_size() / total_train_size\n",
    "#         for layer_name in client_parameters:\n",
    "#             new_parameters[layer_name]['weight'] += fraction * client_parameters[layer_name]['weight']\n",
    "#             new_parameters[layer_name]['bias'] += fraction * client_parameters[layer_name]['bias']\n",
    "#     global_net.apply_parameters(new_parameters)\n",
    "\n",
    "#     train_loss, train_acc = global_net.evaluate(train_dataset)\n",
    "#     test_loss, test_acc = global_net.evaluate(test_dataset)\n",
    "#     print('After round {}, train_loss = {}, test_loss = {}, test_acc = {}\\n'.format(i + 1, round(train_loss, 4),\n",
    "#             round(test_loss, 4), round(test_acc, 4)))\n",
    "#     history.append((train_loss, test_loss))"
   ]
  },
  {
   "cell_type": "markdown",
   "metadata": {
    "id": "8VjLXdV3CCdB"
   },
   "source": [
    "# Implementing the Unlearning Algorithm"
   ]
  },
  {
   "cell_type": "code",
   "execution_count": null,
   "metadata": {
    "id": "J9W2b-nWCC4q"
   },
   "outputs": [],
   "source": []
  },
  {
   "cell_type": "code",
   "execution_count": null,
   "metadata": {
    "id": "iDujS_n0CDBY"
   },
   "outputs": [],
   "source": []
  },
  {
   "cell_type": "code",
   "execution_count": null,
   "metadata": {
    "id": "UedmJK7NA_o5"
   },
   "outputs": [],
   "source": []
  },
  {
   "cell_type": "code",
   "execution_count": null,
   "metadata": {},
   "outputs": [],
   "source": []
  }
 ],
 "metadata": {
  "accelerator": "GPU",
  "colab": {
   "gpuType": "T4",
   "provenance": []
  },
  "kernelspec": {
   "display_name": "Python 3 (ipykernel)",
   "language": "python",
   "name": "python3"
  },
  "language_info": {
   "codemirror_mode": {
    "name": "ipython",
    "version": 3
   },
   "file_extension": ".py",
   "mimetype": "text/x-python",
   "name": "python",
   "nbconvert_exporter": "python",
   "pygments_lexer": "ipython3",
   "version": "3.10.12"
  }
 },
 "nbformat": 4,
 "nbformat_minor": 4
}
